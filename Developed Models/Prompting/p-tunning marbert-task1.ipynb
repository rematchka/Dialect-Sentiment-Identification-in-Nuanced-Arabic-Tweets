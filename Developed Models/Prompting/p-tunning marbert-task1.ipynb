{
 "cells": [
  {
   "cell_type": "code",
   "execution_count": 1,
   "id": "5aa5b66c",
   "metadata": {},
   "outputs": [],
   "source": [
    "import argparse\n",
    "import numpy as np\n",
    "import torch\n",
    "import torch.nn as nn\n",
    "import pandas as pd\n",
    "import random\n",
    "import numpy as np\n",
    "import torch.nn as nn\n",
    "import torch\n",
    "from transformers import AutoModel\n",
    "import torch.nn.functional as F\n",
    "from sklearn.metrics import f1_score, accuracy_score, classification_report\n",
    "from transformers import AdamW, get_linear_schedule_with_warmup\n",
    "# Any results you write to the current directory are saved as output.\n",
    "import numpy as np # linear algebra\n",
    "import pandas as pd # data processing, CSV file I/O (e.g. pd.read_csv)\n",
    "\n",
    "# Input data files are available in the \"../input/\" directory.\n",
    "# For example, running this (by clicking run or pressing Shift+Enter) will list all files under the input directory\n",
    "\n",
    "import os\n",
    "from transformers import BertTokenizer,BertModel\n",
    "import torch\n",
    "import torch.nn as nn\n",
    "import torch.nn.functional as F\n",
    "from torch.utils.data import DataLoader,Dataset\n",
    "from torch.nn.utils.rnn import pack_padded_sequence\n",
    "from torch.optim import AdamW\n",
    "from tqdm import tqdm\n",
    "from argparse import ArgumentParser\n",
    "from ignite.engine import Events, create_supervised_trainer, create_supervised_evaluator\n",
    "from ignite.metrics import Accuracy, Loss\n",
    "from ignite.engine.engine import Engine, State, Events\n",
    "from ignite.handlers import EarlyStopping\n",
    "from ignite.contrib.handlers import TensorboardLogger, ProgressBar\n",
    "from ignite.utils import convert_tensor\n",
    "from torch.optim.lr_scheduler import ExponentialLR\n",
    "import warnings  \n",
    "warnings.filterwarnings('ignore')\n",
    "import gc\n",
    "import copy\n",
    "import time\n",
    "import random\n",
    "import string\n",
    "\n",
    "# For data manipulation\n",
    "import numpy as np\n",
    "import pandas as pd\n",
    "\n",
    "# Pytorch Imports\n",
    "import torch\n",
    "import torch.nn as nn\n",
    "import torch.optim as optim\n",
    "from torch.optim import lr_scheduler\n",
    "from torch.utils.data import Dataset, DataLoader\n",
    "\n",
    "# Utils\n",
    "from tqdm import tqdm\n",
    "from collections import defaultdict\n",
    "\n",
    "# Sklearn Imports\n",
    "from sklearn.metrics import mean_squared_error\n",
    "from sklearn.model_selection import StratifiedKFold, KFold\n",
    "from transformers import AutoTokenizer, AutoModel, AdamW\n",
    "import random\n",
    "import os\n",
    "from urllib import request\n",
    "import numpy as np\n",
    "from sklearn.metrics import classification_report, accuracy_score, f1_score, confusion_matrix, precision_score , recall_score\n",
    "\n",
    "from transformers import AutoConfig, AutoModelForSequenceClassification, AutoTokenizer, BertTokenizer\n",
    "from transformers.data.processors import SingleSentenceClassificationProcessor\n",
    "from transformers import Trainer , TrainingArguments\n",
    "from transformers.trainer_utils import EvaluationStrategy\n",
    "from transformers.data.processors.utils import InputFeatures\n",
    "from torch.utils.data import Dataset\n",
    "from torch.utils.data import DataLoader"
   ]
  },
  {
   "cell_type": "markdown",
   "id": "ee83285d",
   "metadata": {},
   "source": [
    "# Helper Function"
   ]
  },
  {
   "cell_type": "code",
   "execution_count": 2,
   "id": "6a5a84e1",
   "metadata": {},
   "outputs": [],
   "source": [
    "# Define a dataset class for prompted BERT fine tuning\n",
    "# The dataset takes in query and passage, and then construct a training sample as:  <prompt> + [MASK] + <text>, returning the position of the mask\n",
    "# It also performs padding and stores the labels\n",
    "class BERTPromptDataset(torch.utils.data.Dataset):\n",
    "    def __init__(self, dataset, labels, tokenizer, prompt=\"اللكنه هي؟\", max_length=512):\n",
    "        self.text=dataset['text']\n",
    "        self.labels=labels\n",
    "        # Construct the input sentence\n",
    "#         input_sentences = [\"{} {} {}\".format(prompt, tokenizer.mask_token, text) for _, (text) in dataset.iterrows()]\n",
    "        \n",
    "#         # Encode and store\n",
    "#         encodings_dict = tokenizer.batch_encode_plus(input_sentences, truncation=True, max_length=max_length, padding=\"max_length\")\n",
    "#         self.input_ids = encodings_dict['input_ids']\n",
    "#         self.attn_masks = encodings_dict['attention_mask']\n",
    "#         self.labels = labels\n",
    "\n",
    "#         # Calculate the position of the mask using self.input_ids\n",
    "#         mask_id = tokenizer.encode(tokenizer.mask_token)[1] # 103\n",
    "#         self.mask_pos = [sent_ids.index(mask_id) for sent_ids in self.input_ids]\n",
    "        \n",
    "        \n",
    "    def __len__(self):\n",
    "        return len(self.text)\n",
    "\n",
    "    def __getitem__(self, idx):\n",
    "        return_dict = {\"text\": self.text[idx],                       \n",
    "                       \"labels\": torch.tensor(self.labels[idx]).float()} \n",
    "        return return_dict"
   ]
  },
  {
   "cell_type": "code",
   "execution_count": 3,
   "id": "ae89b674",
   "metadata": {},
   "outputs": [],
   "source": [
    "# # Class that expects a prompted input from the BERTPromptDataset\n",
    "# # Takes the input, forward propagates it through BERT and concatenates the output at the [MASK] and [CLS] token to get a representation of the text\n",
    "# # This is then passed to a linear head to perform binary classification for how relevant it is\n",
    "# class BERTPrompt(torch.nn.Module):\n",
    "#     def __init__(self, bert, tokenizer):\n",
    "#         super().__init__()\n",
    "#         self.bert = bert.cuda()\n",
    "#         self.tokenizer = tokenizer\n",
    "#         self.linear = torch.nn.Linear(768*2, 3).cuda()\n",
    "#         self.act = torch.nn.Softmax()\n",
    "        \n",
    "#     # input_dict is obtained through indexing the dataset e.g. dataset[0:10]\n",
    "#     def forward(self, input_ids,attention_mask,mask_pos ):\n",
    "#         output = self.bert(input_ids,attention_mask)[0] # output is of shape [10, 256, 768]\n",
    "#         cls_out = output[:, 0, :]\n",
    "#         mask_out = output[torch.arange(cls_out.shape[0]), mask_pos, :] # indexing like [[0, 1], [13, 14]] will select items [[0, 13], [1, 14]]\n",
    "        \n",
    "#         representation = torch.cat([cls_out, mask_out], dim=1)\n",
    "#         logit = self.linear(representation)\n",
    "#         return logit\n",
    "    \n",
    "# #     # return the logit with sigmoid activation applied\n",
    "# #     def predict(self, input_dict):\n",
    "# #         return self.forward(input_dict)"
   ]
  },
  {
   "cell_type": "code",
   "execution_count": 4,
   "id": "d9f0a678",
   "metadata": {},
   "outputs": [],
   "source": [
    "class ImbalancedDatasetSampler(torch.utils.data.sampler.Sampler):\n",
    "    \"\"\"\n",
    "    Samples elements randomly from a given list of indices for imbalanced dataset\n",
    "    Arguments:\n",
    "        indices (list, optional): a list of indices\n",
    "        num_samples (int, optional): number of samples to draw\n",
    "    \"\"\"\n",
    "\n",
    "    def __init__(self, dataset, indices=None, num_samples=None):\n",
    "        # if indices is not provided,\n",
    "        # all elements in the dataset will be considered\n",
    "        self.indices = list(range(len(dataset['label']))) \\\n",
    "            if indices is None else indices\n",
    "\n",
    "        # if num_samples is not provided,\n",
    "        # draw `len(indices)` samples in each iteration\n",
    "        self.num_samples = len(self.indices) \\\n",
    "            if num_samples is None else num_samples\n",
    "\n",
    "        # distribution of classes in the dataset\n",
    "        label_to_count = {}\n",
    "        for idx in self.indices:\n",
    "            label = self._get_label(dataset, idx)\n",
    "            if label in label_to_count:\n",
    "                label_to_count[label] += 1\n",
    "            else:\n",
    "                label_to_count[label] = 1\n",
    "\n",
    "        # weight for each sample\n",
    "        weights = [1.0 / label_to_count[self._get_label(dataset, idx)] for idx in self.indices]\n",
    "        self.weights = torch.DoubleTensor(weights)\n",
    "\n",
    "    def _get_label(self, dataset, id_):\n",
    "        return dataset['label'][id_]\n",
    "\n",
    "    def __iter__(self):\n",
    "        return (self.indices[i] for i in torch.multinomial(self.weights, self.num_samples, replacement=True))\n",
    "\n",
    "    def __len__(self):\n",
    "        return self.num_samples"
   ]
  },
  {
   "cell_type": "code",
   "execution_count": 5,
   "id": "79d016b6",
   "metadata": {},
   "outputs": [],
   "source": [
    "def freeze(module):\n",
    "    \"\"\"\n",
    "    Freezes module's parameters.\n",
    "    \"\"\"\n",
    "    for parameter in module.parameters():\n",
    "        parameter.requires_grad = False\n",
    "\n",
    "def get_freezed_parameters(module):\n",
    "    \"\"\"\n",
    "    Returns names of freezed parameters of the given module.\n",
    "    \"\"\"\n",
    "    freezed_parameters = []\n",
    "    for name, parameter in module.named_parameters():\n",
    "        if not parameter.requires_grad:\n",
    "            freezed_parameters.append(name)"
   ]
  },
  {
   "cell_type": "code",
   "execution_count": 6,
   "id": "b49ce0f3",
   "metadata": {},
   "outputs": [],
   "source": [
    "# Class Plan:\n",
    "# take in the length of the prompt\n",
    "# create an embedding layer for that many tokens\n",
    "# create an LSTM and MLP to process the prompt \n",
    "# How to feed the embedding to BERT\n",
    "    # Get the embedding layer using https://huggingface.co/transformers/v3.0.2/model_doc/bert.html#transformers.BertModel.get_input_embeddings \n",
    "    # Then directly pass embedding to BERT using self.bert(input_embeds=, attention_mask=)\n",
    "# add prompting logic to the tokenizer function\n",
    "    # it needs to first pass all tokens through LSTM and MLP\n",
    "    # then add them into the sentence as needed\n",
    "class BERTPrompt(torch.nn.Module):\n",
    "    def __init__(self, bert, tokenizer, max_length=512, prompt_length=5):\n",
    "        super().__init__()\n",
    "        self.hidden_size = 768\n",
    "        self.max_length = max_length\n",
    "        self.prompt_length = prompt_length\n",
    "        \n",
    "        \n",
    "        self.bert = bert.cuda()\n",
    "        freeze(self.bert.embeddings)\n",
    "        freeze(self.bert.encoder.layer[:2])\n",
    "        self.tokenizer = tokenizer\n",
    "        self.bert_embedding = self.bert.get_input_embeddings()\n",
    "        self.linear = torch.nn.Linear(self.hidden_size, 18).cuda()\n",
    "        self.act = torch.nn.Sigmoid() \n",
    "        \n",
    "        # p tuning modules\n",
    "        self.prompt_embedding = torch.nn.Embedding(prompt_length, self.hidden_size).cuda()\n",
    "        self.lstm_head = torch.nn.LSTM(input_size=self.hidden_size, hidden_size=int(self.hidden_size/2),\n",
    "            num_layers=2, bidirectional=True, batch_first=True).cuda() # takes (batch_size, sequence length, hidden_size)\n",
    "        self.mlp_head = torch.nn.Sequential(torch.nn.Linear(self.hidden_size, self.hidden_size),\n",
    "                                            torch.nn.ReLU(),\n",
    "                                            torch.nn.Linear(self.hidden_size, self.hidden_size)).cuda()\n",
    "        \n",
    "    # calls the tokenize function to get input embeddings, then passes them through bert\n",
    "    def forward(self, input_sents):\n",
    "        embeds = torch.zeros(len(input_sents), self.max_length, self.hidden_size).cuda()\n",
    "        att_mask = torch.zeros(len(input_sents), self.max_length).cuda().long()\n",
    "        for i, sent in enumerate(input_sents):\n",
    "            embeds[i, :, :], att_mask[i, :] = self.tokenize(sent)\n",
    "        \n",
    "        output = self.bert(inputs_embeds=embeds, attention_mask=att_mask)[0]\n",
    "        cls_out = output[:, 0, :]\n",
    "        logits = self.linear(cls_out)\n",
    "        return logits\n",
    "    \n",
    "    # a tokenize function that embeds the sentence adds the prompt to the end and returns token embeddings along with attention mask\n",
    "    def tokenize(self, input_sent,prompt='اللغة هي؟'):\n",
    "        # generate prompt tokens from embedding\n",
    "        self.prompt_length=len(tokenizer.encode(prompt))\n",
    "        prompt_tokens = self.prompt_embedding(torch.arange(self.prompt_length).cuda())\n",
    "        prompt_tokens = torch.unsqueeze(prompt_tokens, 0) # add a batch dimension\n",
    "        prompt_tokens, _ = self.lstm_head(prompt_tokens)\n",
    "        prompt_tokens = self.mlp_head(prompt_tokens)[0]\n",
    "        \n",
    "        # Encode the input_sentence\n",
    "        encoding_dict = self.tokenizer.encode_plus(input_sent, truncation=True, max_length=self.max_length, padding=\"max_length\")        \n",
    "#         input_ids = encoding_dict[\"input_ids\"]\n",
    "#         mask_id = tokenizer.encode(tokenizer.mask_token)[1] # 103\n",
    "        sep_pos = len(input_sent)\n",
    "        \n",
    "        \n",
    "#         sep_pos = encoding_dict[\"input_ids\"].index(102) # the location of the [SEP] token is at the end of the input\n",
    "        token_embeds = self.bert_embedding(torch.tensor(encoding_dict[\"input_ids\"]).cuda())\n",
    "        \n",
    "        # Add the prompt tokens to the end and modify the att_mask to include the prompt\n",
    "        start_prompt_pos = min(sep_pos, self.max_length - self.prompt_length - 1) # if the sentence is truncutated we must further truncate it to fit in the prompt\n",
    "        end_prompt_pos = start_prompt_pos + self.prompt_length + 1\n",
    "        token_embeds[start_prompt_pos:end_prompt_pos, :] = torch.cat([prompt_tokens, token_embeds[sep_pos:sep_pos+1, :]], dim=0)\n",
    "        att_mask = encoding_dict[\"attention_mask\"]\n",
    "        att_mask[start_prompt_pos:end_prompt_pos] = [1]*(self.prompt_length+1)\n",
    "        att_mask = torch.tensor(att_mask).cuda()\n",
    "        \n",
    "        return token_embeds, att_mask"
   ]
  },
  {
   "cell_type": "code",
   "execution_count": 7,
   "id": "a8e9f546",
   "metadata": {},
   "outputs": [],
   "source": [
    "from typing import Optional, Sequence\n",
    "\n",
    "import torch\n",
    "from torch import Tensor\n",
    "from torch import nn\n",
    "from torch.nn import functional as F\n",
    "\n",
    "\n",
    "class FocalLoss(nn.Module):\n",
    "    \"\"\" Focal Loss, as described in https://arxiv.org/abs/1708.02002.\n",
    "    It is essentially an enhancement to cross entropy loss and is\n",
    "    useful for classification tasks when there is a large class imbalance.\n",
    "    x is expected to contain raw, unnormalized scores for each class.\n",
    "    y is expected to contain class labels.\n",
    "    Shape:\n",
    "        - x: (batch_size, C) or (batch_size, C, d1, d2, ..., dK), K > 0.\n",
    "        - y: (batch_size,) or (batch_size, d1, d2, ..., dK), K > 0.\n",
    "    \"\"\"\n",
    "\n",
    "    def __init__(self,\n",
    "                 alpha: Optional[Tensor] = None,\n",
    "                 gamma: float = 0.,\n",
    "                 reduction: str = 'mean',\n",
    "                 ignore_index: int = -100):\n",
    "        \"\"\"Constructor.\n",
    "        Args:\n",
    "            alpha (Tensor, optional): Weights for each class. Defaults to None.\n",
    "            gamma (float, optional): A constant, as described in the paper.\n",
    "                Defaults to 0.\n",
    "            reduction (str, optional): 'mean', 'sum' or 'none'.\n",
    "                Defaults to 'mean'.\n",
    "            ignore_index (int, optional): class label to ignore.\n",
    "                Defaults to -100.\n",
    "        \"\"\"\n",
    "        if reduction not in ('mean', 'sum', 'none'):\n",
    "            raise ValueError(\n",
    "                'Reduction must be one of: \"mean\", \"sum\", \"none\".')\n",
    "\n",
    "        super().__init__()\n",
    "        self.alpha = alpha\n",
    "        self.gamma = gamma\n",
    "        self.ignore_index = ignore_index\n",
    "        self.reduction = reduction\n",
    "\n",
    "        self.nll_loss = nn.NLLLoss(\n",
    "            weight=alpha, reduction='none', ignore_index=ignore_index)\n",
    "\n",
    "    def __repr__(self):\n",
    "        arg_keys = ['alpha', 'gamma', 'ignore_index', 'reduction']\n",
    "        arg_vals = [self.__dict__[k] for k in arg_keys]\n",
    "        arg_strs = [f'{k}={v}' for k, v in zip(arg_keys, arg_vals)]\n",
    "        arg_str = ', '.join(arg_strs)\n",
    "        return f'{type(self).__name__}({arg_str})'\n",
    "\n",
    "    def forward(self, x: Tensor, y: Tensor) -> Tensor:\n",
    "        if x.ndim > 2:\n",
    "            # (N, C, d1, d2, ..., dK) --> (N * d1 * ... * dK, C)\n",
    "            c = x.shape[1]\n",
    "            x = x.permute(0, *range(2, x.ndim), 1).reshape(-1, c)\n",
    "            # (N, d1, d2, ..., dK) --> (N * d1 * ... * dK,)\n",
    "            y = y.view(-1)\n",
    "\n",
    "        unignored_mask = y != self.ignore_index\n",
    "        y = y[unignored_mask]\n",
    "        if len(y) == 0:\n",
    "            return torch.tensor(0.)\n",
    "        x = x[unignored_mask]\n",
    "\n",
    "        # compute weighted cross entropy term: -alpha * log(pt)\n",
    "        # (alpha is already part of self.nll_loss)\n",
    "        log_p = F.log_softmax(x, dim=-1)\n",
    "        ce = self.nll_loss(log_p, y)\n",
    "\n",
    "        # get true class column from each row\n",
    "        all_rows = torch.arange(len(x))\n",
    "        log_pt = log_p[all_rows, y]\n",
    "\n",
    "        # compute focal term: (1 - pt)^gamma\n",
    "        pt = log_pt.exp()\n",
    "        focal_term = (1 - pt)**self.gamma\n",
    "\n",
    "        # the full loss: -alpha * ((1 - pt)^gamma) * log(pt)\n",
    "        loss = focal_term * ce\n",
    "\n",
    "        if self.reduction == 'mean':\n",
    "            loss = loss.mean()\n",
    "        elif self.reduction == 'sum':\n",
    "            loss = loss.sum()\n",
    "\n",
    "        return loss\n",
    "\n",
    "\n",
    "def focal_loss(alpha: Optional[Sequence] = None,\n",
    "               gamma: float = 0.,\n",
    "               reduction: str = 'mean',\n",
    "               ignore_index: int = -100,\n",
    "               device='cuda',\n",
    "               dtype=torch.float32) -> FocalLoss:\n",
    "    \"\"\"Factory function for FocalLoss.\n",
    "    Args:\n",
    "        alpha (Sequence, optional): Weights for each class. Will be converted\n",
    "            to a Tensor if not None. Defaults to None.\n",
    "        gamma (float, optional): A constant, as described in the paper.\n",
    "            Defaults to 0.\n",
    "        reduction (str, optional): 'mean', 'sum' or 'none'.\n",
    "            Defaults to 'mean'.\n",
    "        ignore_index (int, optional): class label to ignore.\n",
    "            Defaults to -100.\n",
    "        device (str, optional): Device to move alpha to. Defaults to 'cpu'.\n",
    "        dtype (torch.dtype, optional): dtype to cast alpha to.\n",
    "            Defaults to torch.float32.\n",
    "    Returns:\n",
    "        A FocalLoss object\n",
    "    \"\"\"\n",
    "    if alpha is not None:\n",
    "        if not isinstance(alpha, Tensor):\n",
    "            alpha = torch.tensor(alpha)\n",
    "        alpha = alpha.to(device=device, dtype=dtype)\n",
    "\n",
    "    fl = FocalLoss(\n",
    "        alpha=alpha,\n",
    "        gamma=gamma,\n",
    "        reduction=reduction,\n",
    "        ignore_index=ignore_index)\n",
    "    return fl"
   ]
  },
  {
   "cell_type": "code",
   "execution_count": 8,
   "id": "fd1a573b",
   "metadata": {},
   "outputs": [],
   "source": [
    "class F1_Loss(nn.Module):\n",
    "    '''Calculate F1 score. Can work with gpu tensors\n",
    "    \n",
    "    The original implmentation is written by Michal Haltuf on Kaggle.\n",
    "    \n",
    "    Returns\n",
    "    -------\n",
    "    torch.Tensor\n",
    "        `ndim` == 1. epsilon <= val <= 1\n",
    "    \n",
    "    Reference\n",
    "    ---------\n",
    "    - https://www.kaggle.com/rejpalcz/best-loss-function-for-f1-score-metric\n",
    "    - https://scikit-learn.org/stable/modules/generated/sklearn.metrics.f1_score.html#sklearn.metrics.f1_score\n",
    "    - https://discuss.pytorch.org/t/calculating-precision-recall-and-f1-score-in-case-of-multi-label-classification/28265/6\n",
    "    - http://www.ryanzhang.info/python/writing-your-own-loss-function-module-for-pytorch/\n",
    "    '''\n",
    "    def __init__(self, epsilon=1e-7):\n",
    "        super().__init__()\n",
    "        self.epsilon = epsilon\n",
    "        \n",
    "    def forward(self, y_pred, y_true,):\n",
    "        # assert y_pred.ndim == 2\n",
    "        # assert y_true.ndim == 1\n",
    "        # print(y_pred.shape)\n",
    "        # print(y_true.shape)\n",
    "        # y_pred[y_pred<0.5]=0\n",
    "        # y_pred[y_pred>=0.5]=0\n",
    "\n",
    "\n",
    "        \n",
    "        y_true_one_hot = F.one_hot(y_true.to(torch.int64), 3).to(torch.float32)\n",
    "        # y_pred_one_hot = F.one_hot(y_pred.to(torch.int64), 2).to(torch.float32)\n",
    "        \n",
    "        tp = (y_true_one_hot * y_pred).sum(dim=0).to(torch.float32)\n",
    "        tn = ((1 - y_true_one_hot) * (1 - y_pred)).sum(dim=0).to(torch.float32)\n",
    "        fp = ((1 - y_true_one_hot) * y_pred).sum(dim=0).to(torch.float32)\n",
    "        fn = (y_true_one_hot * (1 - y_pred)).sum(dim=0).to(torch.float32)\n",
    "\n",
    "        precision = tp / (tp + fp + self.epsilon)\n",
    "        recall = tp / (tp + fn + self.epsilon)\n",
    "\n",
    "        f1 = 2* (precision*recall) / (precision + recall + self.epsilon)\n",
    "        f1 = f1.clamp(min=self.epsilon, max=1-self.epsilon)\n",
    "        f1=f1.detach()\n",
    "        # print(f1.shape)\n",
    "        # y_pred=y_pred.reshape((y_pred.shape[0], 1))\n",
    "        # y_true=y_true.reshape((y_true.shape[0], 1))\n",
    "\n",
    "        # p1=y_true*(math.log(sigmoid(y_pred)))*(1-f1)[1]\n",
    "        # p0=(1-y_true)*math.log(1-sigmoid(y_pred))*(1-f1)[0]\n",
    "\n",
    "\n",
    "        # y_true_one_hot = F.one_hot(y_true.to(torch.int64), 2)\n",
    "        # print(y_pred)\n",
    "        # print(y_true_one_hot)\n",
    "        CE =torch.nn.CrossEntropyLoss(weight=( 1 - f1))(y_pred, y_true)\n",
    "        # loss = ( 1 - f1)  * CE\n",
    "        return  CE.mean()"
   ]
  },
  {
   "cell_type": "code",
   "execution_count": 9,
   "id": "d34272c0",
   "metadata": {},
   "outputs": [],
   "source": [
    "def criterion(outputs1,  targets):\n",
    "\n",
    "    criterion = nn.CrossEntropyLoss()\n",
    "    loss = criterion(outputs1, targets)\n",
    "    return loss"
   ]
  },
  {
   "cell_type": "code",
   "execution_count": 10,
   "id": "050781e1",
   "metadata": {},
   "outputs": [],
   "source": [
    "def run_training(model, optimizer, scheduler, device, num_epochs, train_loader, valid_loader):\n",
    "    # To automatically log gradients\n",
    "    \n",
    "    if torch.cuda.is_available():\n",
    "        print(\"[INFO] Using GPU: {}\\n\".format(torch.cuda.get_device_name()))\n",
    "    \n",
    "    start = time.time()\n",
    "    best_model_wts = copy.deepcopy(model.state_dict())\n",
    "    best_epoch_loss = 0\n",
    "    history = defaultdict(list)\n",
    "    \n",
    "    for epoch in range(1, num_epochs + 1): \n",
    "        gc.collect()\n",
    "        train_epoch_loss = train_one_epoch(model, optimizer, scheduler, \n",
    "                                           dataloader=train_loader, \n",
    "                                           device=CONFIG['device'], epoch=epoch)\n",
    "        \n",
    "        val_epoch_loss,f1_score = valid_one_epoch(model, valid_loader, device=CONFIG['device'], \n",
    "                                         epoch=epoch)\n",
    "    \n",
    "        history['Train Loss'].append(train_epoch_loss)\n",
    "        history['Valid Loss'].append(val_epoch_loss)\n",
    "        \n",
    "       \n",
    "        \n",
    "        # deep copy the model\n",
    "        if f1_score >= best_epoch_loss:\n",
    "            print(f\"Validation Loss Improved ({best_epoch_loss} ---> {f1_score})\")\n",
    "            best_epoch_loss = f1_score\n",
    "            best_model_wts = copy.deepcopy(model.state_dict())\n",
    "            PATH = \"/home/ahmed/Downloads/Imagenet_VLCQ/Nadi/Marbert_subtask1/bert_w_freezing.bin\"\n",
    "            torch.save(model.state_dict(), PATH)\n",
    "            # Save a model file from the current directory\n",
    "            print(\"Model Saved\")\n",
    "            \n",
    "        print()\n",
    "    \n",
    "    end = time.time()\n",
    "    time_elapsed = end - start\n",
    "    print('Training complete in {:.0f}h {:.0f}m {:.0f}s'.format(\n",
    "        time_elapsed // 3600, (time_elapsed % 3600) // 60, (time_elapsed % 3600) % 60))\n",
    "    print(\"Best Loss: {:.4f}\".format(best_epoch_loss))\n",
    "    \n",
    "    # load best model weights\n",
    "    model.load_state_dict(best_model_wts)\n",
    "    \n",
    "    return model, history"
   ]
  },
  {
   "cell_type": "code",
   "execution_count": 11,
   "id": "14c9ffd1",
   "metadata": {},
   "outputs": [],
   "source": [
    "def fetch_scheduler(optimizer):\n",
    "    if CONFIG['scheduler'] == 'CosineAnnealingLR':\n",
    "        scheduler = lr_scheduler.CosineAnnealingLR(optimizer,T_max=CONFIG['T_max'], \n",
    "                                                   eta_min=CONFIG['min_lr'])\n",
    "    elif CONFIG['scheduler'] == 'CosineAnnealingWarmRestarts':\n",
    "        scheduler = lr_scheduler.CosineAnnealingWarmRestarts(optimizer,T_0=CONFIG['T_0'], \n",
    "                                                             eta_min=CONFIG['min_lr'])\n",
    "    elif CONFIG['scheduler'] == None:\n",
    "        return None\n",
    "        \n",
    "    return scheduler"
   ]
  },
  {
   "cell_type": "code",
   "execution_count": 12,
   "id": "b770511e",
   "metadata": {},
   "outputs": [],
   "source": [
    "def prepare_loaders(train,valid):\n",
    "   \n",
    "    \n",
    "    train_dataset = BERTPromptDataset(train[['text']], train['label'], tokenizer)\n",
    "    valid_dataset = BERTPromptDataset(valid[['text']], valid['label'], tokenizer)\n",
    "#     sampler = ImbalancedDatasetSampler(train)\n",
    "\n",
    "    \n",
    "    train_loader = DataLoader(train_dataset, batch_size=CONFIG['train_batch_size'], \n",
    "                              num_workers=2, shuffle=True, pin_memory=True, drop_last=True)\n",
    "    valid_loader = DataLoader(valid_dataset, batch_size=CONFIG['valid_batch_size'], \n",
    "                              num_workers=2, shuffle=False, pin_memory=True)\n",
    "    \n",
    "    return train_loader, valid_loader\n",
    "\n",
    "    \n",
    "    \n",
    "    "
   ]
  },
  {
   "cell_type": "code",
   "execution_count": 13,
   "id": "3b121b13",
   "metadata": {},
   "outputs": [],
   "source": [
    "@torch.no_grad()\n",
    "def valid_one_epoch(model, dataloader, device, epoch):\n",
    "    model.eval()\n",
    "    \n",
    "    dataset_size = 0\n",
    "    running_loss = 0.0\n",
    "    prediction=[]\n",
    "    true_prediction=[]\n",
    "    bar = tqdm(enumerate(dataloader), total=len(dataloader))\n",
    "    for step, data in bar:        \n",
    "        \n",
    "        text_ids = data['text']\n",
    "#         text_mask = data['text_mask'].to(device, dtype = torch.long)\n",
    "#         mask_pos =data['mask_pos'].to(device, dtype = torch.long)\n",
    "        targets = torch.tensor(data['labels']).to(device, dtype=torch.long)\n",
    "        \n",
    "        batch_size = len(text_ids)\n",
    "\n",
    "        outputs = model(text_ids)\n",
    "        prediction.append(F.softmax(outputs).to('cpu').numpy())\n",
    "        true_prediction.append(targets.to('cpu').numpy())\n",
    "\n",
    "        # outputs = outputs.argmax(dim=1)\n",
    "        \n",
    "        loss = criterion(outputs, targets)\n",
    "        \n",
    "        running_loss += (loss.item() * batch_size)\n",
    "        dataset_size += batch_size\n",
    "        \n",
    "        epoch_loss = running_loss / dataset_size\n",
    "        \n",
    "        bar.set_postfix(Epoch=epoch, Valid_Loss=epoch_loss,\n",
    "                        LR=optimizer.param_groups[0]['lr']) \n",
    "    \n",
    "    gc.collect()\n",
    "    prediction = np.concatenate(prediction)\n",
    "    true_prediction = np.concatenate(true_prediction)\n",
    "    prediction=np.argmax(np.array(prediction),axis=1)\n",
    "    print(print_statistics(np.array(true_prediction),prediction))\n",
    "    print(f1_score(np.array(true_prediction),prediction, average='macro'))\n",
    "\n",
    "    \n",
    "    return epoch_loss, f1_score(np.array(true_prediction),prediction, average='macro')"
   ]
  },
  {
   "cell_type": "code",
   "execution_count": 14,
   "id": "bf3a5464",
   "metadata": {},
   "outputs": [],
   "source": [
    "def train_one_epoch(model, optimizer, scheduler, dataloader, device, epoch):\n",
    "    model.train()\n",
    "    \n",
    "    dataset_size = 0\n",
    "    running_loss = 0.0\n",
    "    \n",
    "    bar = tqdm(enumerate(dataloader), total=len(dataloader))\n",
    "    for step, data in bar:\n",
    "        \n",
    "        text_ids = data['text']\n",
    "        targets = torch.tensor(data['labels']).to(device, dtype=torch.long)\n",
    "        \n",
    "        batch_size = len(text_ids)\n",
    "        # print(targets)\n",
    "\n",
    "        outputs = model(text_ids)\n",
    "#         print(outputs.shape)\n",
    "#         print(outputs)\n",
    "        \n",
    "        # print(outputs.shape)\n",
    "\n",
    "        \n",
    "        loss = criterion(outputs, targets)\n",
    "        loss = loss / CONFIG['n_accumulate']\n",
    "        loss.backward()\n",
    "    \n",
    "        if (step + 1) % CONFIG['n_accumulate'] == 0:\n",
    "            optimizer.step()\n",
    "\n",
    "            # zero the parameter gradients\n",
    "            optimizer.zero_grad()\n",
    "\n",
    "            if scheduler is not None:\n",
    "                scheduler.step()\n",
    "                \n",
    "        running_loss += (loss.item() * batch_size)\n",
    "        dataset_size += batch_size\n",
    "        \n",
    "        epoch_loss = running_loss / dataset_size\n",
    "        \n",
    "        bar.set_postfix(Epoch=epoch, Train_Loss=epoch_loss,\n",
    "                        LR=optimizer.param_groups[0]['lr'])\n",
    "    gc.collect()\n",
    "    \n",
    "    return epoch_loss"
   ]
  },
  {
   "cell_type": "code",
   "execution_count": 15,
   "id": "f1ac4c89",
   "metadata": {},
   "outputs": [],
   "source": [
    "from sklearn.metrics import jaccard_score,f1_score,accuracy_score,recall_score,precision_score,classification_report\n",
    "def print_statistics(y, y_pred):\n",
    "    accuracy = accuracy_score(y, y_pred)\n",
    "    precision =precision_score(y, y_pred, average='weighted')\n",
    "    recall = recall_score(y, y_pred, average='weighted')\n",
    "    f_score = f1_score(y, y_pred, average='weighted')\n",
    "    print('Accuracy: %.3f\\nPrecision: %.3f\\nRecall: %.3f\\nF_score: %.3f\\n'\n",
    "          % (accuracy, precision, recall, f_score))\n",
    "    print(classification_report(y, y_pred))\n",
    "    return accuracy, precision, recall, f_score"
   ]
  },
  {
   "cell_type": "markdown",
   "id": "bbe5f6ff",
   "metadata": {},
   "source": [
    "# Begin Training"
   ]
  },
  {
   "cell_type": "code",
   "execution_count": 16,
   "id": "afeda8b5",
   "metadata": {},
   "outputs": [],
   "source": [
    "train = pd.read_csv('/home/ahmed/Downloads/Imagenet_VLCQ/Nadi/Dataset/NADI2022_Subtask1_TRAIN.tsv', sep='\\t', lineterminator='\\n')\n",
    "valid = pd.read_csv('/home/ahmed/Downloads/Imagenet_VLCQ/Nadi/Dataset/NADI2022_Subtask1_DEV.tsv', sep='\\t', lineterminator='\\n')"
   ]
  },
  {
   "cell_type": "code",
   "execution_count": 17,
   "id": "42d2786f",
   "metadata": {},
   "outputs": [],
   "source": [
    "CONFIG = {\"seed\": 42,\n",
    "          \"epochs\": 25,\n",
    "          \"train_batch_size\": 4,\n",
    "          \"valid_batch_size\": 8,\n",
    "          \"max_length\": 128,\n",
    "          \"learning_rate\": 1e-5,\n",
    "          \"scheduler\": 'CosineAnnealingLR',\n",
    "          \"min_lr\": 1e-8,\n",
    "          \"T_max\": 500,\n",
    "          \"weight_decay\": 1e-2,\n",
    "          \"n_fold\": 5,\n",
    "          \"n_accumulate\": 1,\n",
    "          \"num_classes\": 18,\n",
    "          \"device\": torch.device(\"cuda:0\" if torch.cuda.is_available() else \"cpu\"),\n",
    "          }"
   ]
  },
  {
   "cell_type": "code",
   "execution_count": 18,
   "id": "d07aa098",
   "metadata": {},
   "outputs": [],
   "source": [
    "from sklearn.preprocessing import LabelEncoder\n",
    "\n",
    "le = LabelEncoder()\n",
    "train['#3_label'] = le.fit_transform(train['#3_label'].values)\n",
    "valid['#3_label'] = le.transform(valid['#3_label'].values)\n",
    "train.rename(columns = {'#2_content':'text', '#3_label':'label'}, inplace = True)\n",
    "valid.rename(columns = {'#2_content':'text', '#3_label':'label'}, inplace = True)\n"
   ]
  },
  {
   "cell_type": "code",
   "execution_count": 19,
   "id": "24c62a58",
   "metadata": {},
   "outputs": [
    {
     "data": {
      "text/plain": [
       "2     4283\n",
       "3     2729\n",
       "5     2140\n",
       "0     1809\n",
       "10    1501\n",
       "14    1287\n",
       "8     1286\n",
       "15     859\n",
       "9      858\n",
       "7      644\n",
       "16     642\n",
       "4      429\n",
       "6      429\n",
       "17     429\n",
       "11     428\n",
       "1      215\n",
       "12     215\n",
       "13     215\n",
       "Name: label, dtype: int64"
      ]
     },
     "execution_count": 19,
     "metadata": {},
     "output_type": "execute_result"
    }
   ],
   "source": [
    "train['label'].value_counts()"
   ]
  },
  {
   "cell_type": "code",
   "execution_count": 20,
   "id": "d473cda6",
   "metadata": {},
   "outputs": [],
   "source": [
    "# replicated_3['label'].value_counts()"
   ]
  },
  {
   "cell_type": "code",
   "execution_count": 21,
   "id": "725733a8",
   "metadata": {},
   "outputs": [
    {
     "data": {
      "text/plain": [
       "(20398, 3)"
      ]
     },
     "execution_count": 21,
     "metadata": {},
     "output_type": "execute_result"
    }
   ],
   "source": [
    "train.shape"
   ]
  },
  {
   "cell_type": "code",
   "execution_count": 22,
   "id": "56a8d841",
   "metadata": {},
   "outputs": [],
   "source": [
    "# replicated_0 = pd.concat([train[train['label'] == 0]]*3, ignore_index=True)\n",
    "# replicated_1 = pd.concat([train[train['label'] == 1]]*20, ignore_index=True)\n",
    "# # # replicated_2 = pd.concat([train[train['label'] == 2]]*8, ignore_index=True)\n",
    "# replicated_3 = pd.concat([train[train['label'] == 3]]*2, ignore_index=True)\n",
    "# replicated_4 = pd.concat([train[train['label'] == 4]]*10, ignore_index=True)\n",
    "# replicated_5 = pd.concat([train[train['label'] == 5]]*2, ignore_index=True)\n",
    "# replicated_6 = pd.concat([train[train['label'] == 6]]*10, ignore_index=True)\n",
    "# replicated_7 = pd.concat([train[train['label'] == 7]]*9, ignore_index=True)\n",
    "# replicated_8 = pd.concat([train[train['label'] == 8]]*4, ignore_index=True)\n",
    "# replicated_9 = pd.concat([train[train['label'] == 9]]*5, ignore_index=True)\n",
    "# replicated_10 = pd.concat([train[train['label'] == 10]]*3, ignore_index=True)\n",
    "# replicated_11 = pd.concat([train[train['label'] == 11]]*10, ignore_index=True)\n",
    "# replicated_12 = pd.concat([train[train['label'] == 12]]*20, ignore_index=True)\n",
    "# replicated_13 = pd.concat([train[train['label'] == 13]]*20, ignore_index=True)\n",
    "# replicated_14 = pd.concat([train[train['label'] == 14]]*4, ignore_index=True)\n",
    "# replicated_15 = pd.concat([train[train['label'] == 15]]*5, ignore_index=True)\n",
    "# replicated_16 = pd.concat([train[train['label'] == 16]]*9, ignore_index=True)\n",
    "# replicated_17 = pd.concat([train[train['label'] == 17]]*10, ignore_index=True)\n",
    "# replicated_18 = pd.concat([train[train['label'] == 18]]*20, ignore_index=True)\n",
    "\n",
    "\n",
    "\n",
    "\n",
    "\n",
    "\n"
   ]
  },
  {
   "cell_type": "code",
   "execution_count": 23,
   "id": "199247d3",
   "metadata": {},
   "outputs": [],
   "source": [
    "# train=pd.concat([train[train['label'] == 2],replicated_18,replicated_17,replicated_16,replicated_15,replicated_14,replicated_13,replicated_12,replicated_11,replicated_10,replicated_9,replicated_8,replicated_7,replicated_6,replicated_5,replicated_4,replicated_3,replicated_1,replicated_0 ])"
   ]
  },
  {
   "cell_type": "code",
   "execution_count": 24,
   "id": "7234abef",
   "metadata": {},
   "outputs": [
    {
     "data": {
      "text/plain": [
       "(20398, 3)"
      ]
     },
     "execution_count": 24,
     "metadata": {},
     "output_type": "execute_result"
    }
   ],
   "source": [
    "train.shape"
   ]
  },
  {
   "cell_type": "code",
   "execution_count": 25,
   "id": "2ab43eb1",
   "metadata": {},
   "outputs": [],
   "source": [
    "import re\n",
    "def clean_text(text):  \n",
    "    # ref: https://github.com/bakrianoo/aravec\n",
    "    search = [\"أ\",\"إ\",\"آ\",\"ة\",\"_\",\"-\",\"/\",\".\",\"،\",\" و \",\" يا \",'\"',\"ـ\",\"'\",\"ى\",\n",
    "              \"\\\\\",'\\n', '\\t','&quot;','?','؟','!']\n",
    "    replace = [\"ا\",\"ا\",\"ا\",\"ه\",\" \",\" \",\"\",\"\",\"\",\" و\",\" يا\",\n",
    "               \"\",\"\",\"\",\"ي\",\"\",' ', ' ',' ',' ? ',' ؟ ', ' ! ']\n",
    "    \n",
    "    tashkeel = re.compile(r'[\\u0617-\\u061A\\u064B-\\u0652]')\n",
    "    text = re.sub(tashkeel,\"\", text)\n",
    "    \n",
    "    # longation = re.compile(r'(.)\\1+')\n",
    "    # subst = r\"\\1\\1\"\n",
    "    # text = re.sub(longation, subst, text)\n",
    "    \n",
    "    text = re.sub(r\"[^\\w\\s]\", '', text)\n",
    "    text = re.sub(r\"[a-zA-Z]\", '', text)\n",
    "    text = re.sub(r\"\\d+\", ' ', text)\n",
    "    text = re.sub(r\"\\n+\", ' ', text)\n",
    "    text = re.sub(r\"\\t+\", ' ', text)\n",
    "    text = re.sub(r\"\\r+\", ' ', text)\n",
    "    text = re.sub(r\"\\s+\", ' ', text)\n",
    "    text = text.replace('وو', 'و')\n",
    "    text = text.replace('يي', 'ي')\n",
    "    text = text.replace('اا', 'ا')\n",
    "    \n",
    "    for i in range(0, len(search)):\n",
    "        text = text.replace(search[i], replace[i])\n",
    "    \n",
    "    text = text.strip()\n",
    "    \n",
    "    return text"
   ]
  },
  {
   "cell_type": "code",
   "execution_count": 26,
   "id": "947c1922",
   "metadata": {},
   "outputs": [],
   "source": [
    "# train['text'] = train.text.apply(clean_text)"
   ]
  },
  {
   "cell_type": "code",
   "execution_count": 27,
   "id": "0153cdb5",
   "metadata": {},
   "outputs": [
    {
     "data": {
      "text/plain": [
       "2     4283\n",
       "3     2729\n",
       "5     2140\n",
       "0     1809\n",
       "10    1501\n",
       "14    1287\n",
       "8     1286\n",
       "15     859\n",
       "9      858\n",
       "7      644\n",
       "16     642\n",
       "4      429\n",
       "6      429\n",
       "17     429\n",
       "11     428\n",
       "1      215\n",
       "12     215\n",
       "13     215\n",
       "Name: label, dtype: int64"
      ]
     },
     "execution_count": 27,
     "metadata": {},
     "output_type": "execute_result"
    }
   ],
   "source": [
    "train['label'].value_counts()"
   ]
  },
  {
   "cell_type": "code",
   "execution_count": 28,
   "id": "3ae768a6",
   "metadata": {},
   "outputs": [],
   "source": [
    "tokenizer= AutoTokenizer.from_pretrained('UBC-NLP/MARBERTv2')\n"
   ]
  },
  {
   "cell_type": "code",
   "execution_count": 29,
   "id": "c30a30ca",
   "metadata": {},
   "outputs": [
    {
     "name": "stderr",
     "output_type": "stream",
     "text": [
      "Some weights of the model checkpoint at UBC-NLP/MARBERTv2 were not used when initializing BertModel: ['cls.seq_relationship.bias', 'cls.predictions.decoder.bias', 'cls.predictions.transform.dense.weight', 'cls.predictions.bias', 'cls.predictions.transform.LayerNorm.bias', 'cls.predictions.decoder.weight', 'cls.predictions.transform.dense.bias', 'cls.seq_relationship.weight', 'cls.predictions.transform.LayerNorm.weight']\n",
      "- This IS expected if you are initializing BertModel from the checkpoint of a model trained on another task or with another architecture (e.g. initializing a BertForSequenceClassification model from a BertForPreTraining model).\n",
      "- This IS NOT expected if you are initializing BertModel from the checkpoint of a model that you expect to be exactly identical (initializing a BertForSequenceClassification model from a BertForSequenceClassification model).\n"
     ]
    }
   ],
   "source": [
    "arabert_model=AutoModel.from_pretrained('UBC-NLP/MARBERTv2')\n"
   ]
  },
  {
   "cell_type": "code",
   "execution_count": 30,
   "id": "be0ec741",
   "metadata": {},
   "outputs": [],
   "source": [
    "pBERT = BERTPrompt(arabert_model, tokenizer, prompt_length=25)\n"
   ]
  },
  {
   "cell_type": "code",
   "execution_count": 31,
   "id": "a7773ace",
   "metadata": {},
   "outputs": [],
   "source": [
    "train.reset_index(inplace=True)"
   ]
  },
  {
   "cell_type": "code",
   "execution_count": null,
   "id": "0b691cd2",
   "metadata": {},
   "outputs": [
    {
     "name": "stdout",
     "output_type": "stream",
     "text": [
      "[INFO] Using GPU: NVIDIA GeForce RTX 3080 Ti\n",
      "\n"
     ]
    },
    {
     "name": "stderr",
     "output_type": "stream",
     "text": [
      "100%|█████████████████████████████████████████| 5099/5099 [08:30<00:00,  9.99it/s, Epoch=1, LR=9.06e-6, Train_Loss=1.81]\n",
      "[W pthreadpool-cpp.cc:90] Warning: Leaking Caffe2 thread-pool after fork. (function pthreadpool)\n"
     ]
    },
    {
     "name": "stdout",
     "output_type": "stream",
     "text": [
      "huggingface/tokenizers: The current process just got forked, after parallelism has already been used. Disabling parallelism to avoid deadlocks...\n",
      "To disable this warning, you can either:\n",
      "\t- Avoid using `tokenizers` before the fork if possible\n",
      "\t- Explicitly set the environment variable TOKENIZERS_PARALLELISM=(true | false)\n",
      "huggingface/tokenizers: The current process just got forked, after parallelism has already been used. Disabling parallelism to avoid deadlocks...\n",
      "To disable this warning, you can either:\n",
      "\t- Avoid using `tokenizers` before the fork if possible\n",
      "\t- Explicitly set the environment variable TOKENIZERS_PARALLELISM=(true | false)\n"
     ]
    },
    {
     "name": "stderr",
     "output_type": "stream",
     "text": [
      "  0%|                                                                                           | 0/609 [00:00<?, ?it/s][W pthreadpool-cpp.cc:90] Warning: Leaking Caffe2 thread-pool after fork. (function pthreadpool)\n",
      "100%|██████████████████████████████████████████▉| 608/609 [00:36<00:00, 16.91it/s, Epoch=1, LR=9.06e-6, Valid_Loss=1.71]"
     ]
    },
    {
     "name": "stdout",
     "output_type": "stream",
     "text": [
      "huggingface/tokenizers: The current process just got forked, after parallelism has already been used. Disabling parallelism to avoid deadlocks...\n",
      "To disable this warning, you can either:\n",
      "\t- Avoid using `tokenizers` before the fork if possible\n",
      "\t- Explicitly set the environment variable TOKENIZERS_PARALLELISM=(true | false)\n"
     ]
    },
    {
     "name": "stderr",
     "output_type": "stream",
     "text": [
      "100%|███████████████████████████████████████████| 609/609 [00:36<00:00, 16.83it/s, Epoch=1, LR=9.06e-6, Valid_Loss=1.71]\n"
     ]
    },
    {
     "name": "stdout",
     "output_type": "stream",
     "text": [
      "Accuracy: 0.518\n",
      "Precision: 0.515\n",
      "Recall: 0.518\n",
      "F_score: 0.487\n",
      "\n",
      "              precision    recall  f1-score   support\n",
      "\n",
      "           0       0.61      0.53      0.57       430\n",
      "           1       0.00      0.00      0.00        52\n",
      "           2       0.67      0.93      0.78      1041\n",
      "           3       0.66      0.54      0.59       664\n",
      "           4       0.00      0.00      0.00       104\n",
      "           5       0.38      0.71      0.49       520\n",
      "           6       0.31      0.20      0.24       105\n",
      "           7       0.28      0.19      0.23       157\n",
      "           8       0.69      0.46      0.55       314\n",
      "           9       0.74      0.24      0.36       207\n",
      "          10       0.37      0.42      0.39       355\n",
      "          11       0.21      0.27      0.24       104\n",
      "          12       0.00      0.00      0.00        52\n",
      "          13       0.34      0.68      0.46        53\n",
      "          14       0.22      0.21      0.21       278\n",
      "          15       0.63      0.14      0.23       173\n",
      "          16       0.37      0.29      0.33       157\n",
      "          17       0.64      0.09      0.15       105\n",
      "\n",
      "    accuracy                           0.52      4871\n",
      "   macro avg       0.40      0.33      0.32      4871\n",
      "weighted avg       0.51      0.52      0.49      4871\n",
      "\n",
      "(0.5179634571956477, 0.5149747632748582, 0.5179634571956477, 0.48679606542628395)\n",
      "0.32362987248698993\n",
      "Validation Loss Improved (0 ---> 0.32362987248698993)\n",
      "Model Saved\n",
      "\n"
     ]
    },
    {
     "name": "stderr",
     "output_type": "stream",
     "text": [
      "[W pthreadpool-cpp.cc:90] Warning: Leaking Caffe2 thread-pool after fork. (function pthreadpool)\n"
     ]
    },
    {
     "name": "stdout",
     "output_type": "stream",
     "text": [
      "huggingface/tokenizers: The current process just got forked, after parallelism has already been used. Disabling parallelism to avoid deadlocks...\n",
      "To disable this warning, you can either:\n",
      "\t- Avoid using `tokenizers` before the fork if possible\n",
      "\t- Explicitly set the environment variable TOKENIZERS_PARALLELISM=(true | false)\n",
      "huggingface/tokenizers: The current process just got forked, after parallelism has already been used. Disabling parallelism to avoid deadlocks...\n",
      "To disable this warning, you can either:\n",
      "\t- Avoid using `tokenizers` before the fork if possible\n",
      "\t- Explicitly set the environment variable TOKENIZERS_PARALLELISM=(true | false)\n"
     ]
    },
    {
     "name": "stderr",
     "output_type": "stream",
     "text": [
      "[W pthreadpool-cpp.cc:90] Warning: Leaking Caffe2 thread-pool after fork. (function pthreadpool)\n",
      "100%|█████████████████████████████████████████| 5099/5099 [08:30<00:00,  9.99it/s, Epoch=2, LR=6.61e-6, Train_Loss=1.53]"
     ]
    },
    {
     "name": "stdout",
     "output_type": "stream",
     "text": [
      "huggingface/tokenizers: The current process just got forked, after parallelism has already been used. Disabling parallelism to avoid deadlocks...\n",
      "To disable this warning, you can either:\n",
      "\t- Avoid using `tokenizers` before the fork if possible\n",
      "\t- Explicitly set the environment variable TOKENIZERS_PARALLELISM=(true | false)\n"
     ]
    },
    {
     "name": "stderr",
     "output_type": "stream",
     "text": [
      "100%|█████████████████████████████████████████| 5099/5099 [08:30<00:00,  9.99it/s, Epoch=2, LR=6.61e-6, Train_Loss=1.53]\n"
     ]
    },
    {
     "name": "stdout",
     "output_type": "stream",
     "text": [
      "huggingface/tokenizers: The current process just got forked, after parallelism has already been used. Disabling parallelism to avoid deadlocks...\n",
      "To disable this warning, you can either:\n",
      "\t- Avoid using `tokenizers` before the fork if possible\n",
      "\t- Explicitly set the environment variable TOKENIZERS_PARALLELISM=(true | false)\n",
      "huggingface/tokenizers: The current process just got forked, after parallelism has already been used. Disabling parallelism to avoid deadlocks...\n",
      "To disable this warning, you can either:\n",
      "\t- Avoid using `tokenizers` before the fork if possible\n",
      "\t- Explicitly set the environment variable TOKENIZERS_PARALLELISM=(true | false)\n"
     ]
    },
    {
     "name": "stderr",
     "output_type": "stream",
     "text": [
      "  0%|                                                                                           | 0/609 [00:00<?, ?it/s][W pthreadpool-cpp.cc:90] Warning: Leaking Caffe2 thread-pool after fork. (function pthreadpool)\n",
      "[W pthreadpool-cpp.cc:90] Warning: Leaking Caffe2 thread-pool after fork. (function pthreadpool)\n",
      "100%|███████████████████████████████████████████| 609/609 [00:36<00:00, 16.82it/s, Epoch=2, LR=6.61e-6, Valid_Loss=1.68]\n"
     ]
    },
    {
     "name": "stdout",
     "output_type": "stream",
     "text": [
      "Accuracy: 0.523\n",
      "Precision: 0.510\n",
      "Recall: 0.523\n",
      "F_score: 0.494\n",
      "\n",
      "              precision    recall  f1-score   support\n",
      "\n",
      "           0       0.58      0.52      0.55       430\n",
      "           1       0.00      0.00      0.00        52\n",
      "           2       0.69      0.92      0.79      1041\n",
      "           3       0.66      0.56      0.61       664\n",
      "           4       0.29      0.02      0.04       104\n",
      "           5       0.42      0.63      0.50       520\n",
      "           6       0.22      0.18      0.20       105\n",
      "           7       0.40      0.15      0.21       157\n",
      "           8       0.55      0.54      0.54       314\n",
      "           9       0.62      0.20      0.31       207\n",
      "          10       0.35      0.47      0.40       355\n",
      "          11       0.28      0.29      0.28       104\n",
      "          12       0.00      0.00      0.00        52\n",
      "          13       0.28      0.75      0.40        53\n",
      "          14       0.31      0.22      0.26       278\n",
      "          15       0.51      0.28      0.36       173\n",
      "          16       0.30      0.37      0.33       157\n",
      "          17       0.47      0.09      0.15       105\n",
      "\n",
      "    accuracy                           0.52      4871\n",
      "   macro avg       0.38      0.34      0.33      4871\n",
      "weighted avg       0.51      0.52      0.49      4871\n",
      "\n",
      "(0.5228905768835967, 0.509628967302901, 0.5228905768835967, 0.49444898990053626)\n",
      "0.32910331235817436\n",
      "Validation Loss Improved (0.32362987248698993 ---> 0.32910331235817436)\n",
      "Model Saved\n",
      "\n"
     ]
    },
    {
     "name": "stderr",
     "output_type": "stream",
     "text": [
      "[W pthreadpool-cpp.cc:90] Warning: Leaking Caffe2 thread-pool after fork. (function pthreadpool)\n"
     ]
    },
    {
     "name": "stdout",
     "output_type": "stream",
     "text": [
      "huggingface/tokenizers: The current process just got forked, after parallelism has already been used. Disabling parallelism to avoid deadlocks...\n",
      "To disable this warning, you can either:\n",
      "\t- Avoid using `tokenizers` before the fork if possible\n",
      "\t- Explicitly set the environment variable TOKENIZERS_PARALLELISM=(true | false)\n",
      "huggingface/tokenizers: The current process just got forked, after parallelism has already been used. Disabling parallelism to avoid deadlocks...\n",
      "To disable this warning, you can either:\n",
      "\t- Avoid using `tokenizers` before the fork if possible\n",
      "\t- Explicitly set the environment variable TOKENIZERS_PARALLELISM=(true | false)\n"
     ]
    },
    {
     "name": "stderr",
     "output_type": "stream",
     "text": [
      "[W pthreadpool-cpp.cc:90] Warning: Leaking Caffe2 thread-pool after fork. (function pthreadpool)\n",
      "100%|█████████████████████████████████████████| 5099/5099 [08:30<00:00, 10.01it/s, Epoch=3, LR=3.55e-6, Train_Loss=1.39]"
     ]
    },
    {
     "name": "stdout",
     "output_type": "stream",
     "text": [
      "huggingface/tokenizers: The current process just got forked, after parallelism has already been used. Disabling parallelism to avoid deadlocks...\n",
      "To disable this warning, you can either:\n",
      "\t- Avoid using `tokenizers` before the fork if possible\n",
      "\t- Explicitly set the environment variable TOKENIZERS_PARALLELISM=(true | false)\n"
     ]
    },
    {
     "name": "stderr",
     "output_type": "stream",
     "text": [
      "100%|█████████████████████████████████████████| 5099/5099 [08:30<00:00,  9.99it/s, Epoch=3, LR=3.55e-6, Train_Loss=1.39]\n",
      "[W pthreadpool-cpp.cc:90] Warning: Leaking Caffe2 thread-pool after fork. (function pthreadpool)\n"
     ]
    },
    {
     "name": "stdout",
     "output_type": "stream",
     "text": [
      "huggingface/tokenizers: The current process just got forked, after parallelism has already been used. Disabling parallelism to avoid deadlocks...\n",
      "To disable this warning, you can either:\n",
      "\t- Avoid using `tokenizers` before the fork if possible\n",
      "\t- Explicitly set the environment variable TOKENIZERS_PARALLELISM=(true | false)\n",
      "huggingface/tokenizers: The current process just got forked, after parallelism has already been used. Disabling parallelism to avoid deadlocks...\n",
      "To disable this warning, you can either:\n",
      "\t- Avoid using `tokenizers` before the fork if possible\n",
      "\t- Explicitly set the environment variable TOKENIZERS_PARALLELISM=(true | false)\n"
     ]
    },
    {
     "name": "stderr",
     "output_type": "stream",
     "text": [
      "[W pthreadpool-cpp.cc:90] Warning: Leaking Caffe2 thread-pool after fork. (function pthreadpool)\n",
      "100%|████████████████████████████████████████████| 609/609 [00:36<00:00, 16.82it/s, Epoch=3, LR=3.55e-6, Valid_Loss=1.7]\n"
     ]
    },
    {
     "name": "stdout",
     "output_type": "stream",
     "text": [
      "Accuracy: 0.529\n",
      "Precision: 0.514\n",
      "Recall: 0.529\n",
      "F_score: 0.500\n",
      "\n",
      "              precision    recall  f1-score   support\n",
      "\n",
      "           0       0.61      0.49      0.55       430\n",
      "           1       0.00      0.00      0.00        52\n",
      "           2       0.72      0.91      0.80      1041\n",
      "           3       0.59      0.60      0.60       664\n",
      "           4       0.33      0.05      0.08       104\n",
      "           5       0.40      0.68      0.50       520\n",
      "           6       0.21      0.16      0.18       105\n",
      "           7       0.36      0.15      0.22       157\n",
      "           8       0.59      0.55      0.57       314\n",
      "           9       0.61      0.22      0.32       207\n",
      "          10       0.36      0.46      0.40       355\n",
      "          11       0.31      0.28      0.29       104\n",
      "          12       0.00      0.00      0.00        52\n",
      "          13       0.35      0.58      0.44        53\n",
      "          14       0.33      0.21      0.26       278\n",
      "          15       0.61      0.24      0.35       173\n",
      "          16       0.34      0.40      0.37       157\n",
      "          17       0.38      0.10      0.15       105\n",
      "\n",
      "    accuracy                           0.53      4871\n",
      "   macro avg       0.39      0.34      0.34      4871\n",
      "weighted avg       0.51      0.53      0.50      4871\n",
      "\n",
      "(0.5294600698008622, 0.5137040937296373, 0.5294600698008622, 0.5004778463218061)\n",
      "0.33785264986304653\n",
      "Validation Loss Improved (0.32910331235817436 ---> 0.33785264986304653)\n",
      "Model Saved\n",
      "\n"
     ]
    },
    {
     "name": "stderr",
     "output_type": "stream",
     "text": [
      "[W pthreadpool-cpp.cc:90] Warning: Leaking Caffe2 thread-pool after fork. (function pthreadpool)\n"
     ]
    },
    {
     "name": "stdout",
     "output_type": "stream",
     "text": [
      "huggingface/tokenizers: The current process just got forked, after parallelism has already been used. Disabling parallelism to avoid deadlocks...\n",
      "To disable this warning, you can either:\n",
      "\t- Avoid using `tokenizers` before the fork if possible\n",
      "\t- Explicitly set the environment variable TOKENIZERS_PARALLELISM=(true | false)\n",
      "huggingface/tokenizers: The current process just got forked, after parallelism has already been used. Disabling parallelism to avoid deadlocks...\n",
      "To disable this warning, you can either:\n",
      "\t- Avoid using `tokenizers` before the fork if possible\n",
      "\t- Explicitly set the environment variable TOKENIZERS_PARALLELISM=(true | false)\n"
     ]
    },
    {
     "name": "stderr",
     "output_type": "stream",
     "text": [
      "  0%|                                                                                          | 0/5099 [00:00<?, ?it/s][W pthreadpool-cpp.cc:90] Warning: Leaking Caffe2 thread-pool after fork. (function pthreadpool)\n",
      "100%|████████████████████████████████████████▉| 5098/5099 [08:29<00:00, 10.01it/s, Epoch=4, LR=1.04e-6, Train_Loss=1.25]"
     ]
    },
    {
     "name": "stdout",
     "output_type": "stream",
     "text": [
      "huggingface/tokenizers: The current process just got forked, after parallelism has already been used. Disabling parallelism to avoid deadlocks...\n",
      "To disable this warning, you can either:\n",
      "\t- Avoid using `tokenizers` before the fork if possible\n",
      "\t- Explicitly set the environment variable TOKENIZERS_PARALLELISM=(true | false)\n"
     ]
    },
    {
     "name": "stderr",
     "output_type": "stream",
     "text": [
      "100%|█████████████████████████████████████████| 5099/5099 [08:30<00:00, 10.00it/s, Epoch=4, LR=1.04e-6, Train_Loss=1.25]\n",
      "[W pthreadpool-cpp.cc:90] Warning: Leaking Caffe2 thread-pool after fork. (function pthreadpool)\n"
     ]
    },
    {
     "name": "stdout",
     "output_type": "stream",
     "text": [
      "huggingface/tokenizers: The current process just got forked, after parallelism has already been used. Disabling parallelism to avoid deadlocks...\n",
      "To disable this warning, you can either:\n",
      "\t- Avoid using `tokenizers` before the fork if possible\n",
      "\t- Explicitly set the environment variable TOKENIZERS_PARALLELISM=(true | false)\n",
      "huggingface/tokenizers: The current process just got forked, after parallelism has already been used. Disabling parallelism to avoid deadlocks...\n",
      "To disable this warning, you can either:\n",
      "\t- Avoid using `tokenizers` before the fork if possible\n",
      "\t- Explicitly set the environment variable TOKENIZERS_PARALLELISM=(true | false)\n"
     ]
    },
    {
     "name": "stderr",
     "output_type": "stream",
     "text": [
      "[W pthreadpool-cpp.cc:90] Warning: Leaking Caffe2 thread-pool after fork. (function pthreadpool)\n",
      "100%|██████████████████████████████████████████▉| 608/609 [00:36<00:00, 16.90it/s, Epoch=4, LR=1.04e-6, Valid_Loss=1.73]"
     ]
    },
    {
     "name": "stdout",
     "output_type": "stream",
     "text": [
      "huggingface/tokenizers: The current process just got forked, after parallelism has already been used. Disabling parallelism to avoid deadlocks...\n",
      "To disable this warning, you can either:\n",
      "\t- Avoid using `tokenizers` before the fork if possible\n",
      "\t- Explicitly set the environment variable TOKENIZERS_PARALLELISM=(true | false)\n"
     ]
    },
    {
     "name": "stderr",
     "output_type": "stream",
     "text": [
      "100%|███████████████████████████████████████████| 609/609 [00:36<00:00, 16.81it/s, Epoch=4, LR=1.04e-6, Valid_Loss=1.73]\n"
     ]
    },
    {
     "name": "stdout",
     "output_type": "stream",
     "text": [
      "Accuracy: 0.524\n",
      "Precision: 0.511\n",
      "Recall: 0.524\n",
      "F_score: 0.503\n",
      "\n",
      "              precision    recall  f1-score   support\n",
      "\n",
      "           0       0.60      0.51      0.55       430\n",
      "           1       0.00      0.00      0.00        52\n",
      "           2       0.76      0.89      0.82      1041\n",
      "           3       0.60      0.57      0.59       664\n",
      "           4       0.29      0.04      0.07       104\n",
      "           5       0.41      0.62      0.49       520\n",
      "           6       0.29      0.16      0.21       105\n",
      "           7       0.29      0.16      0.21       157\n",
      "           8       0.56      0.54      0.55       314\n",
      "           9       0.55      0.23      0.33       207\n",
      "          10       0.32      0.52      0.39       355\n",
      "          11       0.29      0.35      0.32       104\n",
      "          12       0.00      0.00      0.00        52\n",
      "          13       0.37      0.55      0.44        53\n",
      "          14       0.32      0.21      0.25       278\n",
      "          15       0.54      0.29      0.38       173\n",
      "          16       0.31      0.45      0.36       157\n",
      "          17       0.33      0.15      0.21       105\n",
      "\n",
      "    accuracy                           0.52      4871\n",
      "   macro avg       0.38      0.35      0.34      4871\n",
      "weighted avg       0.51      0.52      0.50      4871\n",
      "\n",
      "(0.523711763498255, 0.5106390401958428, 0.523711763498255, 0.5026279082070602)\n",
      "0.34241414712470286\n",
      "Validation Loss Improved (0.33785264986304653 ---> 0.34241414712470286)\n",
      "Model Saved\n",
      "\n"
     ]
    },
    {
     "name": "stderr",
     "output_type": "stream",
     "text": [
      "[W pthreadpool-cpp.cc:90] Warning: Leaking Caffe2 thread-pool after fork. (function pthreadpool)\n"
     ]
    },
    {
     "name": "stdout",
     "output_type": "stream",
     "text": [
      "huggingface/tokenizers: The current process just got forked, after parallelism has already been used. Disabling parallelism to avoid deadlocks...\n",
      "To disable this warning, you can either:\n",
      "\t- Avoid using `tokenizers` before the fork if possible\n",
      "\t- Explicitly set the environment variable TOKENIZERS_PARALLELISM=(true | false)\n",
      "huggingface/tokenizers: The current process just got forked, after parallelism has already been used. Disabling parallelism to avoid deadlocks...\n",
      "To disable this warning, you can either:\n",
      "\t- Avoid using `tokenizers` before the fork if possible\n",
      "\t- Explicitly set the environment variable TOKENIZERS_PARALLELISM=(true | false)\n"
     ]
    },
    {
     "name": "stderr",
     "output_type": "stream",
     "text": [
      "[W pthreadpool-cpp.cc:90] Warning: Leaking Caffe2 thread-pool after fork. (function pthreadpool)\n",
      "100%|█████████████████████████████████████████| 5099/5099 [08:30<00:00,  9.98it/s, Epoch=5, LR=1.25e-8, Train_Loss=1.11]"
     ]
    },
    {
     "name": "stdout",
     "output_type": "stream",
     "text": [
      "huggingface/tokenizers: The current process just got forked, after parallelism has already been used. Disabling parallelism to avoid deadlocks...\n",
      "To disable this warning, you can either:\n",
      "\t- Avoid using `tokenizers` before the fork if possible\n",
      "\t- Explicitly set the environment variable TOKENIZERS_PARALLELISM=(true | false)\n"
     ]
    },
    {
     "name": "stderr",
     "output_type": "stream",
     "text": [
      "100%|█████████████████████████████████████████| 5099/5099 [08:30<00:00, 10.00it/s, Epoch=5, LR=1.25e-8, Train_Loss=1.11]\n",
      "[W pthreadpool-cpp.cc:90] Warning: Leaking Caffe2 thread-pool after fork. (function pthreadpool)\n"
     ]
    },
    {
     "name": "stdout",
     "output_type": "stream",
     "text": [
      "huggingface/tokenizers: The current process just got forked, after parallelism has already been used. Disabling parallelism to avoid deadlocks...\n",
      "To disable this warning, you can either:\n",
      "\t- Avoid using `tokenizers` before the fork if possible\n",
      "\t- Explicitly set the environment variable TOKENIZERS_PARALLELISM=(true | false)\n",
      "huggingface/tokenizers: The current process just got forked, after parallelism has already been used. Disabling parallelism to avoid deadlocks...\n",
      "To disable this warning, you can either:\n",
      "\t- Avoid using `tokenizers` before the fork if possible\n",
      "\t- Explicitly set the environment variable TOKENIZERS_PARALLELISM=(true | false)\n"
     ]
    },
    {
     "name": "stderr",
     "output_type": "stream",
     "text": [
      "[W pthreadpool-cpp.cc:90] Warning: Leaking Caffe2 thread-pool after fork. (function pthreadpool)\n",
      "100%|███████████████████████████████████████████| 609/609 [00:36<00:00, 16.75it/s, Epoch=5, LR=1.25e-8, Valid_Loss=1.79]\n"
     ]
    },
    {
     "name": "stdout",
     "output_type": "stream",
     "text": [
      "Accuracy: 0.527\n",
      "Precision: 0.510\n",
      "Recall: 0.527\n",
      "F_score: 0.506\n",
      "\n",
      "              precision    recall  f1-score   support\n",
      "\n",
      "           0       0.59      0.51      0.55       430\n",
      "           1       0.00      0.00      0.00        52\n",
      "           2       0.73      0.90      0.81      1041\n",
      "           3       0.60      0.60      0.60       664\n",
      "           4       0.39      0.17      0.24       104\n",
      "           5       0.42      0.61      0.50       520\n",
      "           6       0.25      0.18      0.21       105\n",
      "           7       0.33      0.15      0.21       157\n",
      "           8       0.61      0.52      0.56       314\n",
      "           9       0.43      0.26      0.32       207\n",
      "          10       0.33      0.49      0.40       355\n",
      "          11       0.32      0.25      0.28       104\n",
      "          12       0.00      0.00      0.00        52\n",
      "          13       0.37      0.62      0.46        53\n",
      "          14       0.29      0.22      0.25       278\n",
      "          15       0.60      0.27      0.37       173\n",
      "          16       0.32      0.40      0.36       157\n",
      "          17       0.43      0.14      0.21       105\n",
      "\n",
      "    accuracy                           0.53      4871\n",
      "   macro avg       0.39      0.35      0.35      4871\n",
      "weighted avg       0.51      0.53      0.51      4871\n",
      "\n",
      "(0.5267912133032232, 0.5102965665574491, 0.5267912133032232, 0.5055407532056002)\n",
      "0.3512287240065082\n",
      "Validation Loss Improved (0.34241414712470286 ---> 0.3512287240065082)\n",
      "Model Saved\n",
      "\n"
     ]
    },
    {
     "name": "stderr",
     "output_type": "stream",
     "text": [
      "[W pthreadpool-cpp.cc:90] Warning: Leaking Caffe2 thread-pool after fork. (function pthreadpool)\n"
     ]
    },
    {
     "name": "stdout",
     "output_type": "stream",
     "text": [
      "huggingface/tokenizers: The current process just got forked, after parallelism has already been used. Disabling parallelism to avoid deadlocks...\n",
      "To disable this warning, you can either:\n",
      "\t- Avoid using `tokenizers` before the fork if possible\n",
      "\t- Explicitly set the environment variable TOKENIZERS_PARALLELISM=(true | false)\n",
      "huggingface/tokenizers: The current process just got forked, after parallelism has already been used. Disabling parallelism to avoid deadlocks...\n",
      "To disable this warning, you can either:\n",
      "\t- Avoid using `tokenizers` before the fork if possible\n",
      "\t- Explicitly set the environment variable TOKENIZERS_PARALLELISM=(true | false)\n"
     ]
    },
    {
     "name": "stderr",
     "output_type": "stream",
     "text": [
      "  0%|                                                                                          | 0/5099 [00:00<?, ?it/s][W pthreadpool-cpp.cc:90] Warning: Leaking Caffe2 thread-pool after fork. (function pthreadpool)\n",
      "100%|███████████████████████████████████████▉| 5098/5099 [08:30<00:00, 10.01it/s, Epoch=6, LR=8.56e-7, Train_Loss=0.969]"
     ]
    },
    {
     "name": "stdout",
     "output_type": "stream",
     "text": [
      "huggingface/tokenizers: The current process just got forked, after parallelism has already been used. Disabling parallelism to avoid deadlocks...\n",
      "To disable this warning, you can either:\n",
      "\t- Avoid using `tokenizers` before the fork if possible\n",
      "\t- Explicitly set the environment variable TOKENIZERS_PARALLELISM=(true | false)\n"
     ]
    },
    {
     "name": "stderr",
     "output_type": "stream",
     "text": [
      "100%|████████████████████████████████████████| 5099/5099 [08:30<00:00,  9.99it/s, Epoch=6, LR=8.56e-7, Train_Loss=0.969]\n"
     ]
    },
    {
     "name": "stdout",
     "output_type": "stream",
     "text": [
      "huggingface/tokenizers: The current process just got forked, after parallelism has already been used. Disabling parallelism to avoid deadlocks...\n",
      "To disable this warning, you can either:\n",
      "\t- Avoid using `tokenizers` before the fork if possible\n",
      "\t- Explicitly set the environment variable TOKENIZERS_PARALLELISM=(true | false)\n",
      "huggingface/tokenizers: The current process just got forked, after parallelism has already been used. Disabling parallelism to avoid deadlocks...\n",
      "To disable this warning, you can either:\n",
      "\t- Avoid using `tokenizers` before the fork if possible\n",
      "\t- Explicitly set the environment variable TOKENIZERS_PARALLELISM=(true | false)\n"
     ]
    },
    {
     "name": "stderr",
     "output_type": "stream",
     "text": [
      "  0%|                                                                                           | 0/609 [00:00<?, ?it/s][W pthreadpool-cpp.cc:90] Warning: Leaking Caffe2 thread-pool after fork. (function pthreadpool)\n",
      "[W pthreadpool-cpp.cc:90] Warning: Leaking Caffe2 thread-pool after fork. (function pthreadpool)\n",
      "100%|███████████████████████████████████████████| 609/609 [00:36<00:00, 16.80it/s, Epoch=6, LR=8.56e-7, Valid_Loss=1.87]\n"
     ]
    },
    {
     "name": "stdout",
     "output_type": "stream",
     "text": [
      "Accuracy: 0.519\n",
      "Precision: 0.503\n",
      "Recall: 0.519\n",
      "F_score: 0.500\n",
      "\n",
      "              precision    recall  f1-score   support\n",
      "\n",
      "           0       0.62      0.51      0.56       430\n",
      "           1       0.00      0.00      0.00        52\n",
      "           2       0.72      0.90      0.80      1041\n",
      "           3       0.58      0.57      0.58       664\n",
      "           4       0.38      0.14      0.21       104\n",
      "           5       0.42      0.62      0.50       520\n",
      "           6       0.25      0.24      0.24       105\n",
      "           7       0.38      0.15      0.21       157\n",
      "           8       0.61      0.54      0.57       314\n",
      "           9       0.37      0.25      0.30       207\n",
      "          10       0.35      0.43      0.39       355\n",
      "          11       0.26      0.28      0.27       104\n",
      "          12       0.06      0.02      0.03        52\n",
      "          13       0.33      0.57      0.42        53\n",
      "          14       0.27      0.22      0.25       278\n",
      "          15       0.49      0.28      0.35       173\n",
      "          16       0.31      0.38      0.34       157\n",
      "          17       0.39      0.12      0.19       105\n",
      "\n",
      "    accuracy                           0.52      4871\n",
      "   macro avg       0.38      0.34      0.34      4871\n",
      "weighted avg       0.50      0.52      0.50      4871\n",
      "\n",
      "(0.5194005337712996, 0.5025741013356354, 0.5194005337712996, 0.4996432886446737)\n",
      "0.34490124716195325\n",
      "\n"
     ]
    },
    {
     "name": "stderr",
     "output_type": "stream",
     "text": [
      "[W pthreadpool-cpp.cc:90] Warning: Leaking Caffe2 thread-pool after fork. (function pthreadpool)\n",
      "[W pthreadpool-cpp.cc:90] Warning: Leaking Caffe2 thread-pool after fork. (function pthreadpool)\n"
     ]
    },
    {
     "name": "stdout",
     "output_type": "stream",
     "text": [
      "huggingface/tokenizers: The current process just got forked, after parallelism has already been used. Disabling parallelism to avoid deadlocks...\n",
      "To disable this warning, you can either:\n",
      "\t- Avoid using `tokenizers` before the fork if possible\n",
      "\t- Explicitly set the environment variable TOKENIZERS_PARALLELISM=(true | false)\n",
      "huggingface/tokenizers: The current process just got forked, after parallelism has already been used. Disabling parallelism to avoid deadlocks...\n",
      "To disable this warning, you can either:\n",
      "\t- Avoid using `tokenizers` before the fork if possible\n",
      "\t- Explicitly set the environment variable TOKENIZERS_PARALLELISM=(true | false)\n"
     ]
    },
    {
     "name": "stderr",
     "output_type": "stream",
     "text": [
      "100%|████████████████████████████████████████| 5099/5099 [08:30<00:00, 10.01it/s, Epoch=7, LR=3.25e-6, Train_Loss=0.839]"
     ]
    },
    {
     "name": "stdout",
     "output_type": "stream",
     "text": [
      "huggingface/tokenizers: The current process just got forked, after parallelism has already been used. Disabling parallelism to avoid deadlocks...\n",
      "To disable this warning, you can either:\n",
      "\t- Avoid using `tokenizers` before the fork if possible\n",
      "\t- Explicitly set the environment variable TOKENIZERS_PARALLELISM=(true | false)\n"
     ]
    },
    {
     "name": "stderr",
     "output_type": "stream",
     "text": [
      "100%|████████████████████████████████████████| 5099/5099 [08:30<00:00,  9.99it/s, Epoch=7, LR=3.25e-6, Train_Loss=0.839]\n",
      "[W pthreadpool-cpp.cc:90] Warning: Leaking Caffe2 thread-pool after fork. (function pthreadpool)\n"
     ]
    },
    {
     "name": "stdout",
     "output_type": "stream",
     "text": [
      "huggingface/tokenizers: The current process just got forked, after parallelism has already been used. Disabling parallelism to avoid deadlocks...\n",
      "To disable this warning, you can either:\n",
      "\t- Avoid using `tokenizers` before the fork if possible\n",
      "\t- Explicitly set the environment variable TOKENIZERS_PARALLELISM=(true | false)\n",
      "huggingface/tokenizers: The current process just got forked, after parallelism has already been used. Disabling parallelism to avoid deadlocks...\n",
      "To disable this warning, you can either:\n",
      "\t- Avoid using `tokenizers` before the fork if possible\n",
      "\t- Explicitly set the environment variable TOKENIZERS_PARALLELISM=(true | false)\n"
     ]
    },
    {
     "name": "stderr",
     "output_type": "stream",
     "text": [
      "[W pthreadpool-cpp.cc:90] Warning: Leaking Caffe2 thread-pool after fork. (function pthreadpool)\n",
      "100%|███████████████████████████████████████████| 609/609 [00:36<00:00, 16.78it/s, Epoch=7, LR=3.25e-6, Valid_Loss=1.96]\n"
     ]
    },
    {
     "name": "stdout",
     "output_type": "stream",
     "text": [
      "Accuracy: 0.508\n",
      "Precision: 0.491\n",
      "Recall: 0.508\n",
      "F_score: 0.489\n",
      "\n",
      "              precision    recall  f1-score   support\n",
      "\n",
      "           0       0.57      0.53      0.55       430\n",
      "           1       0.00      0.00      0.00        52\n",
      "           2       0.73      0.89      0.80      1041\n",
      "           3       0.53      0.60      0.56       664\n",
      "           4       0.29      0.11      0.15       104\n",
      "           5       0.42      0.47      0.44       520\n",
      "           6       0.30      0.15      0.20       105\n",
      "           7       0.40      0.15      0.22       157\n",
      "           8       0.59      0.50      0.54       314\n",
      "           9       0.44      0.27      0.33       207\n",
      "          10       0.32      0.45      0.37       355\n",
      "          11       0.29      0.33      0.31       104\n",
      "          12       0.14      0.04      0.06        52\n",
      "          13       0.36      0.53      0.43        53\n",
      "          14       0.25      0.24      0.24       278\n",
      "          15       0.53      0.28      0.37       173\n",
      "          16       0.30      0.39      0.34       157\n",
      "          17       0.39      0.17      0.24       105\n",
      "\n",
      "    accuracy                           0.51      4871\n",
      "   macro avg       0.38      0.34      0.34      4871\n",
      "weighted avg       0.49      0.51      0.49      4871\n",
      "\n",
      "(0.507903921166085, 0.4910090601527132, 0.507903921166085, 0.48911601722674936)\n",
      "0.34237401273836215\n",
      "\n"
     ]
    },
    {
     "name": "stderr",
     "output_type": "stream",
     "text": [
      "[W pthreadpool-cpp.cc:90] Warning: Leaking Caffe2 thread-pool after fork. (function pthreadpool)\n",
      "[W pthreadpool-cpp.cc:90] Warning: Leaking Caffe2 thread-pool after fork. (function pthreadpool)\n"
     ]
    },
    {
     "name": "stdout",
     "output_type": "stream",
     "text": [
      "huggingface/tokenizers: The current process just got forked, after parallelism has already been used. Disabling parallelism to avoid deadlocks...\n",
      "To disable this warning, you can either:\n",
      "\t- Avoid using `tokenizers` before the fork if possible\n",
      "\t- Explicitly set the environment variable TOKENIZERS_PARALLELISM=(true | false)\n",
      "huggingface/tokenizers: The current process just got forked, after parallelism has already been used. Disabling parallelism to avoid deadlocks...\n",
      "To disable this warning, you can either:\n",
      "\t- Avoid using `tokenizers` before the fork if possible\n",
      "\t- Explicitly set the environment variable TOKENIZERS_PARALLELISM=(true | false)\n"
     ]
    },
    {
     "name": "stderr",
     "output_type": "stream",
     "text": [
      "100%|███████████████████████████████████████▉| 5098/5099 [08:30<00:00, 10.00it/s, Epoch=8, LR=6.31e-6, Train_Loss=0.694]"
     ]
    },
    {
     "name": "stdout",
     "output_type": "stream",
     "text": [
      "huggingface/tokenizers: The current process just got forked, after parallelism has already been used. Disabling parallelism to avoid deadlocks...\n",
      "To disable this warning, you can either:\n",
      "\t- Avoid using `tokenizers` before the fork if possible\n",
      "\t- Explicitly set the environment variable TOKENIZERS_PARALLELISM=(true | false)\n"
     ]
    },
    {
     "name": "stderr",
     "output_type": "stream",
     "text": [
      "100%|████████████████████████████████████████| 5099/5099 [08:30<00:00,  9.99it/s, Epoch=8, LR=6.31e-6, Train_Loss=0.694]\n"
     ]
    },
    {
     "name": "stdout",
     "output_type": "stream",
     "text": [
      "huggingface/tokenizers: The current process just got forked, after parallelism has already been used. Disabling parallelism to avoid deadlocks...\n",
      "To disable this warning, you can either:\n",
      "\t- Avoid using `tokenizers` before the fork if possible\n",
      "\t- Explicitly set the environment variable TOKENIZERS_PARALLELISM=(true | false)\n",
      "huggingface/tokenizers: The current process just got forked, after parallelism has already been used. Disabling parallelism to avoid deadlocks...\n",
      "To disable this warning, you can either:\n",
      "\t- Avoid using `tokenizers` before the fork if possible\n",
      "\t- Explicitly set the environment variable TOKENIZERS_PARALLELISM=(true | false)\n"
     ]
    },
    {
     "name": "stderr",
     "output_type": "stream",
     "text": [
      "  0%|                                                                                           | 0/609 [00:00<?, ?it/s][W pthreadpool-cpp.cc:90] Warning: Leaking Caffe2 thread-pool after fork. (function pthreadpool)\n",
      "[W pthreadpool-cpp.cc:90] Warning: Leaking Caffe2 thread-pool after fork. (function pthreadpool)\n",
      "100%|███████████████████████████████████████████| 609/609 [00:36<00:00, 16.78it/s, Epoch=8, LR=6.31e-6, Valid_Loss=2.06]\n"
     ]
    },
    {
     "name": "stdout",
     "output_type": "stream",
     "text": [
      "Accuracy: 0.506\n",
      "Precision: 0.486\n",
      "Recall: 0.506\n",
      "F_score: 0.489\n",
      "\n",
      "              precision    recall  f1-score   support\n",
      "\n",
      "           0       0.55      0.55      0.55       430\n",
      "           1       0.00      0.00      0.00        52\n",
      "           2       0.73      0.88      0.80      1041\n",
      "           3       0.57      0.56      0.56       664\n",
      "           4       0.40      0.10      0.16       104\n",
      "           5       0.41      0.51      0.46       520\n",
      "           6       0.29      0.21      0.24       105\n",
      "           7       0.39      0.14      0.21       157\n",
      "           8       0.56      0.53      0.54       314\n",
      "           9       0.30      0.25      0.27       207\n",
      "          10       0.37      0.42      0.39       355\n",
      "          11       0.30      0.24      0.27       104\n",
      "          12       0.00      0.00      0.00        52\n",
      "          13       0.37      0.57      0.45        53\n",
      "          14       0.26      0.27      0.26       278\n",
      "          15       0.41      0.30      0.35       173\n",
      "          16       0.31      0.35      0.33       157\n",
      "          17       0.30      0.17      0.22       105\n",
      "\n",
      "    accuracy                           0.51      4871\n",
      "   macro avg       0.36      0.34      0.34      4871\n",
      "weighted avg       0.49      0.51      0.49      4871\n",
      "\n",
      "(0.506056251283104, 0.48571937091204687, 0.506056251283104, 0.48856435893849076)\n",
      "0.3359833983434607\n",
      "\n"
     ]
    },
    {
     "name": "stderr",
     "output_type": "stream",
     "text": [
      "[W pthreadpool-cpp.cc:90] Warning: Leaking Caffe2 thread-pool after fork. (function pthreadpool)\n",
      "[W pthreadpool-cpp.cc:90] Warning: Leaking Caffe2 thread-pool after fork. (function pthreadpool)\n"
     ]
    },
    {
     "name": "stdout",
     "output_type": "stream",
     "text": [
      "huggingface/tokenizers: The current process just got forked, after parallelism has already been used. Disabling parallelism to avoid deadlocks...\n",
      "To disable this warning, you can either:\n",
      "\t- Avoid using `tokenizers` before the fork if possible\n",
      "\t- Explicitly set the environment variable TOKENIZERS_PARALLELISM=(true | false)\n",
      "huggingface/tokenizers: The current process just got forked, after parallelism has already been used. Disabling parallelism to avoid deadlocks...\n",
      "To disable this warning, you can either:\n",
      "\t- Avoid using `tokenizers` before the fork if possible\n",
      "\t- Explicitly set the environment variable TOKENIZERS_PARALLELISM=(true | false)\n"
     ]
    },
    {
     "name": "stderr",
     "output_type": "stream",
     "text": [
      "100%|████████████████████████████████████████| 5099/5099 [08:30<00:00,  9.97it/s, Epoch=9, LR=8.87e-6, Train_Loss=0.568]"
     ]
    },
    {
     "name": "stdout",
     "output_type": "stream",
     "text": [
      "huggingface/tokenizers: The current process just got forked, after parallelism has already been used. Disabling parallelism to avoid deadlocks...\n",
      "To disable this warning, you can either:\n",
      "\t- Avoid using `tokenizers` before the fork if possible\n",
      "\t- Explicitly set the environment variable TOKENIZERS_PARALLELISM=(true | false)\n"
     ]
    },
    {
     "name": "stderr",
     "output_type": "stream",
     "text": [
      "100%|████████████████████████████████████████| 5099/5099 [08:30<00:00,  9.99it/s, Epoch=9, LR=8.87e-6, Train_Loss=0.568]\n"
     ]
    },
    {
     "name": "stdout",
     "output_type": "stream",
     "text": [
      "huggingface/tokenizers: The current process just got forked, after parallelism has already been used. Disabling parallelism to avoid deadlocks...\n",
      "To disable this warning, you can either:\n",
      "\t- Avoid using `tokenizers` before the fork if possible\n",
      "\t- Explicitly set the environment variable TOKENIZERS_PARALLELISM=(true | false)\n",
      "huggingface/tokenizers: The current process just got forked, after parallelism has already been used. Disabling parallelism to avoid deadlocks...\n",
      "To disable this warning, you can either:\n",
      "\t- Avoid using `tokenizers` before the fork if possible\n",
      "\t- Explicitly set the environment variable TOKENIZERS_PARALLELISM=(true | false)\n"
     ]
    },
    {
     "name": "stderr",
     "output_type": "stream",
     "text": [
      "  0%|                                                                                           | 0/609 [00:00<?, ?it/s][W pthreadpool-cpp.cc:90] Warning: Leaking Caffe2 thread-pool after fork. (function pthreadpool)\n",
      "[W pthreadpool-cpp.cc:90] Warning: Leaking Caffe2 thread-pool after fork. (function pthreadpool)\n",
      "100%|███████████████████████████████████████████| 609/609 [00:36<00:00, 16.74it/s, Epoch=9, LR=8.87e-6, Valid_Loss=2.21]\n"
     ]
    },
    {
     "name": "stdout",
     "output_type": "stream",
     "text": [
      "Accuracy: 0.485\n",
      "Precision: 0.480\n",
      "Recall: 0.485\n",
      "F_score: 0.477\n",
      "\n",
      "              precision    recall  f1-score   support\n",
      "\n",
      "           0       0.53      0.57      0.55       430\n",
      "           1       0.00      0.00      0.00        52\n",
      "           2       0.76      0.79      0.77      1041\n",
      "           3       0.63      0.53      0.58       664\n",
      "           4       0.29      0.11      0.15       104\n",
      "           5       0.40      0.54      0.46       520\n",
      "           6       0.29      0.17      0.22       105\n",
      "           7       0.27      0.16      0.20       157\n",
      "           8       0.56      0.54      0.55       314\n",
      "           9       0.30      0.22      0.25       207\n",
      "          10       0.33      0.42      0.37       355\n",
      "          11       0.20      0.26      0.23       104\n",
      "          12       0.05      0.04      0.04        52\n",
      "          13       0.36      0.55      0.43        53\n",
      "          14       0.25      0.18      0.21       278\n",
      "          15       0.34      0.28      0.30       173\n",
      "          16       0.23      0.41      0.29       157\n",
      "          17       0.32      0.26      0.29       105\n",
      "\n",
      "    accuracy                           0.48      4871\n",
      "   macro avg       0.34      0.33      0.33      4871\n",
      "weighted avg       0.48      0.48      0.48      4871\n",
      "\n",
      "(0.48491069595565595, 0.48038971563499727, 0.48491069595565595, 0.4768401897989593)\n",
      "0.3277145116631265\n",
      "\n"
     ]
    },
    {
     "name": "stderr",
     "output_type": "stream",
     "text": [
      "[W pthreadpool-cpp.cc:90] Warning: Leaking Caffe2 thread-pool after fork. (function pthreadpool)\n",
      "[W pthreadpool-cpp.cc:90] Warning: Leaking Caffe2 thread-pool after fork. (function pthreadpool)\n"
     ]
    },
    {
     "name": "stdout",
     "output_type": "stream",
     "text": [
      "huggingface/tokenizers: The current process just got forked, after parallelism has already been used. Disabling parallelism to avoid deadlocks...\n",
      "To disable this warning, you can either:\n",
      "\t- Avoid using `tokenizers` before the fork if possible\n",
      "\t- Explicitly set the environment variable TOKENIZERS_PARALLELISM=(true | false)\n",
      "huggingface/tokenizers: The current process just got forked, after parallelism has already been used. Disabling parallelism to avoid deadlocks...\n",
      "To disable this warning, you can either:\n",
      "\t- Avoid using `tokenizers` before the fork if possible\n",
      "\t- Explicitly set the environment variable TOKENIZERS_PARALLELISM=(true | false)\n"
     ]
    },
    {
     "name": "stderr",
     "output_type": "stream",
     "text": [
      "100%|██████████████████████████████████████▉| 5098/5099 [08:31<00:00, 10.02it/s, Epoch=10, LR=9.99e-6, Train_Loss=0.458]"
     ]
    },
    {
     "name": "stdout",
     "output_type": "stream",
     "text": [
      "huggingface/tokenizers: The current process just got forked, after parallelism has already been used. Disabling parallelism to avoid deadlocks...\n",
      "To disable this warning, you can either:\n",
      "\t- Avoid using `tokenizers` before the fork if possible\n"
     ]
    },
    {
     "name": "stderr",
     "output_type": "stream",
     "text": [
      "100%|███████████████████████████████████████| 5099/5099 [08:31<00:00,  9.97it/s, Epoch=10, LR=9.99e-6, Train_Loss=0.458]\n"
     ]
    },
    {
     "name": "stdout",
     "output_type": "stream",
     "text": [
      "huggingface/tokenizers: The current process just got forked, after parallelism has already been used. Disabling parallelism to avoid deadlocks...\n",
      "To disable this warning, you can either:\n",
      "\t- Avoid using `tokenizers` before the fork if possible\n",
      "\t- Explicitly set the environment variable TOKENIZERS_PARALLELISM=(true | false)\n",
      "huggingface/tokenizers: The current process just got forked, after parallelism has already been used. Disabling parallelism to avoid deadlocks...\n",
      "To disable this warning, you can either:\n",
      "\t- Avoid using `tokenizers` before the fork if possible\n",
      "\t- Explicitly set the environment variable TOKENIZERS_PARALLELISM=(true | false)\n"
     ]
    },
    {
     "name": "stderr",
     "output_type": "stream",
     "text": [
      "[W pthreadpool-cpp.cc:90] Warning: Leaking Caffe2 thread-pool after fork. (function pthreadpool)\n",
      "  0%|                                                                                           | 0/609 [00:00<?, ?it/s][W pthreadpool-cpp.cc:90] Warning: Leaking Caffe2 thread-pool after fork. (function pthreadpool)\n",
      "100%|██████████████████████████████████████████| 609/609 [00:36<00:00, 16.79it/s, Epoch=10, LR=9.99e-6, Valid_Loss=2.35]\n"
     ]
    },
    {
     "name": "stdout",
     "output_type": "stream",
     "text": [
      "Accuracy: 0.481\n",
      "Precision: 0.487\n",
      "Recall: 0.481\n",
      "F_score: 0.475\n",
      "\n",
      "              precision    recall  f1-score   support\n",
      "\n",
      "           0       0.71      0.40      0.51       430\n",
      "           1       0.00      0.00      0.00        52\n",
      "           2       0.73      0.84      0.78      1041\n",
      "           3       0.55      0.55      0.55       664\n",
      "           4       0.31      0.25      0.28       104\n",
      "           5       0.39      0.49      0.43       520\n",
      "           6       0.27      0.16      0.20       105\n",
      "           7       0.25      0.13      0.17       157\n",
      "           8       0.62      0.49      0.55       314\n",
      "           9       0.23      0.26      0.24       207\n",
      "          10       0.34      0.44      0.38       355\n",
      "          11       0.30      0.24      0.27       104\n",
      "          12       0.08      0.12      0.10        52\n",
      "          13       0.39      0.47      0.43        53\n",
      "          14       0.22      0.19      0.21       278\n",
      "          15       0.48      0.27      0.35       173\n",
      "          16       0.25      0.37      0.30       157\n",
      "          17       0.30      0.29      0.29       105\n",
      "\n",
      "    accuracy                           0.48      4871\n",
      "   macro avg       0.36      0.33      0.34      4871\n",
      "weighted avg       0.49      0.48      0.47      4871\n",
      "\n",
      "(0.480804762882365, 0.4866508158485479, 0.480804762882365, 0.4747795511209797)\n",
      "0.33577518678348006\n",
      "\n"
     ]
    },
    {
     "name": "stderr",
     "output_type": "stream",
     "text": [
      "[W pthreadpool-cpp.cc:90] Warning: Leaking Caffe2 thread-pool after fork. (function pthreadpool)\n"
     ]
    },
    {
     "name": "stdout",
     "output_type": "stream",
     "text": [
      "huggingface/tokenizers: The current process just got forked, after parallelism has already been used. Disabling parallelism to avoid deadlocks...\n",
      "To disable this warning, you can either:\n",
      "\t- Avoid using `tokenizers` before the fork if possible\n",
      "\t- Explicitly set the environment variable TOKENIZERS_PARALLELISM=(true | false)\n",
      "huggingface/tokenizers: The current process just got forked, after parallelism has already been used. Disabling parallelism to avoid deadlocks...\n",
      "To disable this warning, you can either:\n",
      "\t- Avoid using `tokenizers` before the fork if possible\n",
      "\t- Explicitly set the environment variable TOKENIZERS_PARALLELISM=(true | false)\n"
     ]
    },
    {
     "name": "stderr",
     "output_type": "stream",
     "text": [
      "  0%|                                                                                          | 0/5099 [00:00<?, ?it/s][W pthreadpool-cpp.cc:90] Warning: Leaking Caffe2 thread-pool after fork. (function pthreadpool)\n",
      "100%|████████████████████████████████████████| 5099/5099 [08:30<00:00,  9.98it/s, Epoch=11, LR=9.24e-6, Train_Loss=0.36]"
     ]
    },
    {
     "name": "stdout",
     "output_type": "stream",
     "text": [
      "huggingface/tokenizers: The current process just got forked, after parallelism has already been used. Disabling parallelism to avoid deadlocks...\n",
      "To disable this warning, you can either:\n",
      "\t- Avoid using `tokenizers` before the fork if possible\n",
      "\t- Explicitly set the environment variable TOKENIZERS_PARALLELISM=(true | false)\n"
     ]
    },
    {
     "name": "stderr",
     "output_type": "stream",
     "text": [
      "100%|████████████████████████████████████████| 5099/5099 [08:30<00:00,  9.99it/s, Epoch=11, LR=9.24e-6, Train_Loss=0.36]\n",
      "[W pthreadpool-cpp.cc:90] Warning: Leaking Caffe2 thread-pool after fork. (function pthreadpool)\n"
     ]
    },
    {
     "name": "stdout",
     "output_type": "stream",
     "text": [
      "huggingface/tokenizers: The current process just got forked, after parallelism has already been used. Disabling parallelism to avoid deadlocks...\n",
      "To disable this warning, you can either:\n",
      "\t- Avoid using `tokenizers` before the fork if possible\n",
      "\t- Explicitly set the environment variable TOKENIZERS_PARALLELISM=(true | false)\n",
      "huggingface/tokenizers: The current process just got forked, after parallelism has already been used. Disabling parallelism to avoid deadlocks...\n",
      "To disable this warning, you can either:\n",
      "\t- Avoid using `tokenizers` before the fork if possible\n",
      "\t- Explicitly set the environment variable TOKENIZERS_PARALLELISM=(true | false)\n"
     ]
    },
    {
     "name": "stderr",
     "output_type": "stream",
     "text": [
      "[W pthreadpool-cpp.cc:90] Warning: Leaking Caffe2 thread-pool after fork. (function pthreadpool)\n",
      "100%|██████████████████████████████████████████| 609/609 [00:36<00:00, 16.74it/s, Epoch=11, LR=9.24e-6, Valid_Loss=2.46]\n"
     ]
    },
    {
     "name": "stdout",
     "output_type": "stream",
     "text": [
      "Accuracy: 0.483\n",
      "Precision: 0.475\n",
      "Recall: 0.483\n",
      "F_score: 0.473\n",
      "\n",
      "              precision    recall  f1-score   support\n",
      "\n",
      "           0       0.64      0.50      0.56       430\n",
      "           1       0.00      0.00      0.00        52\n",
      "           2       0.73      0.83      0.78      1041\n",
      "           3       0.47      0.59      0.52       664\n",
      "           4       0.30      0.23      0.26       104\n",
      "           5       0.43      0.41      0.42       520\n",
      "           6       0.40      0.15      0.22       105\n",
      "           7       0.23      0.13      0.17       157\n",
      "           8       0.56      0.53      0.54       314\n",
      "           9       0.27      0.27      0.27       207\n",
      "          10       0.36      0.41      0.39       355\n",
      "          11       0.22      0.28      0.24       104\n",
      "          12       0.13      0.08      0.10        52\n",
      "          13       0.38      0.49      0.43        53\n",
      "          14       0.22      0.23      0.23       278\n",
      "          15       0.46      0.26      0.33       173\n",
      "          16       0.35      0.24      0.29       157\n",
      "          17       0.20      0.31      0.24       105\n",
      "\n",
      "    accuracy                           0.48      4871\n",
      "   macro avg       0.35      0.33      0.33      4871\n",
      "weighted avg       0.47      0.48      0.47      4871\n",
      "\n",
      "(0.48285772941901045, 0.4749316871383948, 0.48285772941901045, 0.47272791345129717)\n",
      "0.3329052181689119\n",
      "\n"
     ]
    },
    {
     "name": "stderr",
     "output_type": "stream",
     "text": [
      "[W pthreadpool-cpp.cc:90] Warning: Leaking Caffe2 thread-pool after fork. (function pthreadpool)\n",
      "[W pthreadpool-cpp.cc:90] Warning: Leaking Caffe2 thread-pool after fork. (function pthreadpool)\n"
     ]
    },
    {
     "name": "stdout",
     "output_type": "stream",
     "text": [
      "huggingface/tokenizers: The current process just got forked, after parallelism has already been used. Disabling parallelism to avoid deadlocks...\n",
      "To disable this warning, you can either:\n",
      "\t- Avoid using `tokenizers` before the fork if possible\n",
      "\t- Explicitly set the environment variable TOKENIZERS_PARALLELISM=(true | false)\n",
      "huggingface/tokenizers: The current process just got forked, after parallelism has already been used. Disabling parallelism to avoid deadlocks...\n",
      "To disable this warning, you can either:\n",
      "\t- Avoid using `tokenizers` before the fork if possible\n",
      "\t- Explicitly set the environment variable TOKENIZERS_PARALLELISM=(true | false)\n"
     ]
    },
    {
     "name": "stderr",
     "output_type": "stream",
     "text": [
      "100%|████████████████████████████████████████| 5099/5099 [08:31<00:00, 10.03it/s, Epoch=12, LR=6.9e-6, Train_Loss=0.285]"
     ]
    },
    {
     "name": "stdout",
     "output_type": "stream",
     "text": [
      "huggingface/tokenizers: The current process just got forked, after parallelism has already been used. Disabling parallelism to avoid deadlocks...\n",
      "To disable this warning, you can either:\n",
      "\t- Avoid using `tokenizers` before the fork if possible\n",
      "\t- Explicitly set the environment variable TOKENIZERS_PARALLELISM=(true | false)\n"
     ]
    },
    {
     "name": "stderr",
     "output_type": "stream",
     "text": [
      "100%|████████████████████████████████████████| 5099/5099 [08:31<00:00,  9.98it/s, Epoch=12, LR=6.9e-6, Train_Loss=0.285]\n",
      "[W pthreadpool-cpp.cc:90] Warning: Leaking Caffe2 thread-pool after fork. (function pthreadpool)\n"
     ]
    },
    {
     "name": "stdout",
     "output_type": "stream",
     "text": [
      "huggingface/tokenizers: The current process just got forked, after parallelism has already been used. Disabling parallelism to avoid deadlocks...\n",
      "To disable this warning, you can either:\n",
      "\t- Avoid using `tokenizers` before the fork if possible\n",
      "\t- Explicitly set the environment variable TOKENIZERS_PARALLELISM=(true | false)\n",
      "huggingface/tokenizers: The current process just got forked, after parallelism has already been used. Disabling parallelism to avoid deadlocks...\n",
      "To disable this warning, you can either:\n",
      "\t- Avoid using `tokenizers` before the fork if possible\n",
      "\t- Explicitly set the environment variable TOKENIZERS_PARALLELISM=(true | false)\n"
     ]
    },
    {
     "name": "stderr",
     "output_type": "stream",
     "text": [
      "[W pthreadpool-cpp.cc:90] Warning: Leaking Caffe2 thread-pool after fork. (function pthreadpool)\n",
      "100%|███████████████████████████████████████████| 609/609 [00:36<00:00, 16.72it/s, Epoch=12, LR=6.9e-6, Valid_Loss=2.58]\n"
     ]
    },
    {
     "name": "stdout",
     "output_type": "stream",
     "text": [
      "Accuracy: 0.472\n",
      "Precision: 0.474\n",
      "Recall: 0.472\n",
      "F_score: 0.469\n",
      "\n",
      "              precision    recall  f1-score   support\n",
      "\n",
      "           0       0.66      0.49      0.56       430\n",
      "           1       0.00      0.00      0.00        52\n",
      "           2       0.73      0.78      0.75      1041\n",
      "           3       0.57      0.57      0.57       664\n",
      "           4       0.29      0.17      0.22       104\n",
      "           5       0.40      0.42      0.41       520\n",
      "           6       0.20      0.23      0.21       105\n",
      "           7       0.17      0.17      0.17       157\n",
      "           8       0.57      0.55      0.56       314\n",
      "           9       0.29      0.23      0.26       207\n",
      "          10       0.31      0.43      0.36       355\n",
      "          11       0.36      0.22      0.27       104\n",
      "          12       0.13      0.06      0.08        52\n",
      "          13       0.39      0.49      0.44        53\n",
      "          14       0.18      0.24      0.21       278\n",
      "          15       0.35      0.25      0.29       173\n",
      "          16       0.29      0.28      0.28       157\n",
      "          17       0.38      0.29      0.32       105\n",
      "\n",
      "    accuracy                           0.47      4871\n",
      "   macro avg       0.35      0.33      0.33      4871\n",
      "weighted avg       0.47      0.47      0.47      4871\n",
      "\n",
      "(0.4715664134674605, 0.4741909234992555, 0.4715664134674605, 0.4692190712291688)\n",
      "0.33144564111290636\n",
      "\n",
      "huggingface/tokenizers: The current process just got forked, after parallelism has already been used. Disabling parallelism to avoid deadlocks...\n",
      "To disable this warning, you can either:\n",
      "\t- Avoid using `tokenizers` before the fork if possible\n",
      "\t- Explicitly set the environment variable TOKENIZERS_PARALLELISM=(true | false)\n"
     ]
    },
    {
     "name": "stderr",
     "output_type": "stream",
     "text": [
      "[W pthreadpool-cpp.cc:90] Warning: Leaking Caffe2 thread-pool after fork. (function pthreadpool)\n",
      "[W pthreadpool-cpp.cc:90] Warning: Leaking Caffe2 thread-pool after fork. (function pthreadpool)\n"
     ]
    },
    {
     "name": "stdout",
     "output_type": "stream",
     "text": [
      "huggingface/tokenizers: The current process just got forked, after parallelism has already been used. Disabling parallelism to avoid deadlocks...\n",
      "To disable this warning, you can either:\n",
      "\t- Avoid using `tokenizers` before the fork if possible\n",
      "\t- Explicitly set the environment variable TOKENIZERS_PARALLELISM=(true | false)\n"
     ]
    },
    {
     "name": "stderr",
     "output_type": "stream",
     "text": [
      "100%|███████████████████████████████████████| 5099/5099 [08:31<00:00,  9.97it/s, Epoch=13, LR=3.85e-6, Train_Loss=0.219]\n",
      "[W pthreadpool-cpp.cc:90] Warning: Leaking Caffe2 thread-pool after fork. (function pthreadpool)\n"
     ]
    },
    {
     "name": "stdout",
     "output_type": "stream",
     "text": [
      "huggingface/tokenizers: The current process just got forked, after parallelism has already been used. Disabling parallelism to avoid deadlocks...\n",
      "To disable this warning, you can either:\n",
      "\t- Avoid using `tokenizers` before the fork if possible\n",
      "\t- Explicitly set the environment variable TOKENIZERS_PARALLELISM=(true | false)\n",
      "huggingface/tokenizers: The current process just got forked, after parallelism has already been used. Disabling parallelism to avoid deadlocks...\n",
      "To disable this warning, you can either:\n",
      "\t- Avoid using `tokenizers` before the fork if possible\n",
      "\t- Explicitly set the environment variable TOKENIZERS_PARALLELISM=(true | false)\n"
     ]
    },
    {
     "name": "stderr",
     "output_type": "stream",
     "text": [
      "[W pthreadpool-cpp.cc:90] Warning: Leaking Caffe2 thread-pool after fork. (function pthreadpool)\n",
      "100%|██████████████████████████████████████████| 609/609 [00:36<00:00, 16.76it/s, Epoch=13, LR=3.85e-6, Valid_Loss=2.69]\n"
     ]
    },
    {
     "name": "stdout",
     "output_type": "stream",
     "text": [
      "Accuracy: 0.483\n",
      "Precision: 0.478\n",
      "Recall: 0.483\n",
      "F_score: 0.476\n",
      "\n",
      "              precision    recall  f1-score   support\n",
      "\n",
      "           0       0.65      0.53      0.58       430\n",
      "           1       0.00      0.00      0.00        52\n",
      "           2       0.74      0.81      0.77      1041\n",
      "           3       0.51      0.61      0.55       664\n",
      "           4       0.23      0.17      0.20       104\n",
      "           5       0.38      0.43      0.40       520\n",
      "           6       0.30      0.19      0.23       105\n",
      "           7       0.26      0.15      0.19       157\n",
      "           8       0.58      0.50      0.53       314\n",
      "           9       0.35      0.24      0.29       207\n",
      "          10       0.36      0.36      0.36       355\n",
      "          11       0.38      0.19      0.26       104\n",
      "          12       0.04      0.04      0.04        52\n",
      "          13       0.42      0.40      0.41        53\n",
      "          14       0.19      0.23      0.21       278\n",
      "          15       0.39      0.27      0.32       173\n",
      "          16       0.28      0.41      0.33       157\n",
      "          17       0.31      0.41      0.35       105\n",
      "\n",
      "    accuracy                           0.48      4871\n",
      "   macro avg       0.35      0.33      0.34      4871\n",
      "weighted avg       0.48      0.48      0.48      4871\n",
      "\n",
      "(0.4834736193800041, 0.4776864263721643, 0.4834736193800041, 0.4756427887809746)\n",
      "0.33507487140096226\n",
      "\n"
     ]
    },
    {
     "name": "stderr",
     "output_type": "stream",
     "text": [
      "[W pthreadpool-cpp.cc:90] Warning: Leaking Caffe2 thread-pool after fork. (function pthreadpool)\n",
      "[W pthreadpool-cpp.cc:90] Warning: Leaking Caffe2 thread-pool after fork. (function pthreadpool)\n"
     ]
    },
    {
     "name": "stdout",
     "output_type": "stream",
     "text": [
      "huggingface/tokenizers: The current process just got forked, after parallelism has already been used. Disabling parallelism to avoid deadlocks...\n",
      "To disable this warning, you can either:\n",
      "\t- Avoid using `tokenizers` before the fork if possible\n",
      "\t- Explicitly set the environment variable TOKENIZERS_PARALLELISM=(true | false)\n",
      "huggingface/tokenizers: The current process just got forked, after parallelism has already been used. Disabling parallelism to avoid deadlocks...\n",
      "To disable this warning, you can either:\n",
      "\t- Avoid using `tokenizers` before the fork if possible\n",
      "\t- Explicitly set the environment variable TOKENIZERS_PARALLELISM=(true | false)\n"
     ]
    },
    {
     "name": "stderr",
     "output_type": "stream",
     "text": [
      " 73%|████████████████████████████▋          | 3743/5099 [06:15<02:17,  9.89it/s, Epoch=14, LR=9.91e-6, Train_Loss=0.168]"
     ]
    }
   ],
   "source": [
    "\n",
    "\n",
    "    \n",
    "# Create Dataloaders\n",
    "train_loader, valid_loader = prepare_loaders(train,valid)\n",
    "\n",
    "pBERT.to(CONFIG['device'])\n",
    "torch.cuda.empty_cache()\n",
    "\n",
    "# Define Optimizer and Scheduler\n",
    "optimizer = AdamW(pBERT.parameters(), lr=CONFIG['learning_rate'], weight_decay=CONFIG['weight_decay'])\n",
    "scheduler = fetch_scheduler(optimizer)\n",
    "\n",
    "model, history = run_training(pBERT, optimizer, scheduler,\n",
    "                              device=CONFIG['device'],\n",
    "                              num_epochs=CONFIG['epochs'],\n",
    "                              train_loader=train_loader, valid_loader=valid_loader )\n",
    "\n",
    "\n",
    "del model, history, train_loader, valid_loader\n",
    "_ = gc.collect()\n",
    "print()"
   ]
  },
  {
   "cell_type": "code",
   "execution_count": null,
   "id": "d2a14011",
   "metadata": {},
   "outputs": [],
   "source": [
    "# PATH = \"/home/ahmed/Downloads/Imagenet_VLCQ/Nadi/Marbert_subtask1/Loss.bin\"\n",
    "# torch.save(model.state_dict(), PATH)"
   ]
  },
  {
   "cell_type": "code",
   "execution_count": null,
   "id": "f28d9aa5",
   "metadata": {},
   "outputs": [],
   "source": []
  },
  {
   "cell_type": "code",
   "execution_count": null,
   "id": "f86f6c33",
   "metadata": {},
   "outputs": [],
   "source": []
  },
  {
   "cell_type": "code",
   "execution_count": null,
   "id": "9f075632",
   "metadata": {},
   "outputs": [],
   "source": []
  },
  {
   "cell_type": "code",
   "execution_count": null,
   "id": "536dc8d3",
   "metadata": {},
   "outputs": [],
   "source": []
  },
  {
   "cell_type": "code",
   "execution_count": null,
   "id": "84b8d176",
   "metadata": {},
   "outputs": [],
   "source": []
  },
  {
   "cell_type": "code",
   "execution_count": null,
   "id": "d361ffa7",
   "metadata": {},
   "outputs": [],
   "source": []
  },
  {
   "cell_type": "code",
   "execution_count": null,
   "id": "f7b20b36",
   "metadata": {},
   "outputs": [],
   "source": [
    "\n",
    "\n",
    "    \n",
    "# # Create Dataloaders\n",
    "# train_loader, valid_loader = prepare_loaders(train,valid)\n",
    "\n",
    "# pBERT.to(CONFIG['device'])\n",
    "# torch.cuda.empty_cache()\n",
    "\n",
    "# # Define Optimizer and Scheduler\n",
    "# optimizer = AdamW(pBERT.parameters(), lr=CONFIG['learning_rate'], weight_decay=CONFIG['weight_decay'])\n",
    "# scheduler = fetch_scheduler(optimizer)\n",
    "\n",
    "# model, history = run_training(pBERT, optimizer, scheduler,\n",
    "#                               device=CONFIG['device'],\n",
    "#                               num_epochs=CONFIG['epochs'],\n",
    "#                               train_loader=train_loader, valid_loader=valid_loader )\n",
    "\n",
    "\n",
    "# del model, history, train_loader, valid_loader\n",
    "# _ = gc.collect()\n",
    "# print()"
   ]
  },
  {
   "cell_type": "code",
   "execution_count": null,
   "id": "a2aecc39",
   "metadata": {},
   "outputs": [],
   "source": []
  },
  {
   "cell_type": "code",
   "execution_count": null,
   "id": "6fc6a3ae",
   "metadata": {},
   "outputs": [],
   "source": []
  },
  {
   "cell_type": "code",
   "execution_count": null,
   "id": "4a97de8e",
   "metadata": {},
   "outputs": [],
   "source": []
  },
  {
   "cell_type": "code",
   "execution_count": null,
   "id": "4224a8fc",
   "metadata": {},
   "outputs": [],
   "source": []
  }
 ],
 "metadata": {
  "kernelspec": {
   "display_name": "Python 3 (ipykernel)",
   "language": "python",
   "name": "python3"
  },
  "language_info": {
   "codemirror_mode": {
    "name": "ipython",
    "version": 3
   },
   "file_extension": ".py",
   "mimetype": "text/x-python",
   "name": "python",
   "nbconvert_exporter": "python",
   "pygments_lexer": "ipython3",
   "version": "3.9.7"
  }
 },
 "nbformat": 4,
 "nbformat_minor": 5
}
